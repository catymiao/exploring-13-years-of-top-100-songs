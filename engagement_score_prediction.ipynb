{
 "cells": [
  {
   "cell_type": "markdown",
   "metadata": {},
   "source": [
    "## Engagement Score Prediction "
   ]
  },
  {
   "cell_type": "code",
   "execution_count": 253,
   "metadata": {
    "colab": {
     "base_uri": "https://localhost:8080/",
     "height": 52
    },
    "colab_type": "code",
    "id": "uSON660-KJPV",
    "outputId": "4cb82b11-b359-4cb3-9d9a-7f90f7a81267"
   },
   "outputs": [
    {
     "name": "stderr",
     "output_type": "stream",
     "text": [
      "'nltk.download' is not recognized as an internal or external command,\n",
      "operable program or batch file.\n"
     ]
    }
   ],
   "source": [
    "import pandas as pd\n",
    "import numpy as np\n",
    "import matplotlib.pyplot as plt\n",
    "import seaborn as sns\n",
    "import warnings\n",
    "warnings.filterwarnings('ignore')\n",
    "from sklearn.feature_extraction.text import TfidfVectorizer\n",
    "from sklearn.feature_extraction.text import CountVectorizer\n",
    "import wordcloud\n",
    "import nltk\n",
    "!nltk.download('stopwords')\n",
    "from nltk.corpus import stopwords\n",
    "stop = stopwords.words('english')\n"
   ]
  },
  {
   "cell_type": "code",
   "execution_count": 254,
   "metadata": {
    "colab": {
     "base_uri": "https://localhost:8080/",
     "height": 35
    },
    "colab_type": "code",
    "id": "ffrKjZnhLoG4",
    "outputId": "cf62fa57-c66f-423b-8cb8-bb51f153bcf0"
   },
   "outputs": [
    {
     "data": {
      "text/plain": [
       "179"
      ]
     },
     "execution_count": 254,
     "metadata": {},
     "output_type": "execute_result"
    }
   ],
   "source": [
    "len(stop)"
   ]
  },
  {
   "cell_type": "code",
   "execution_count": 256,
   "metadata": {
    "colab": {
     "base_uri": "https://localhost:8080/",
     "height": 544
    },
    "colab_type": "code",
    "id": "MNcE5pY4MatQ",
    "outputId": "273e07cd-5ee2-4607-be80-c1317d69d5d7"
   },
   "outputs": [
    {
     "name": "stdout",
     "output_type": "stream",
     "text": [
      "(2969, 12)\n"
     ]
    },
    {
     "data": {
      "text/html": [
       "<div>\n",
       "<style scoped>\n",
       "    .dataframe tbody tr th:only-of-type {\n",
       "        vertical-align: middle;\n",
       "    }\n",
       "\n",
       "    .dataframe tbody tr th {\n",
       "        vertical-align: top;\n",
       "    }\n",
       "\n",
       "    .dataframe thead th {\n",
       "        text-align: right;\n",
       "    }\n",
       "</style>\n",
       "<table border=\"1\" class=\"dataframe\">\n",
       "  <thead>\n",
       "    <tr style=\"text-align: right;\">\n",
       "      <th></th>\n",
       "      <th>artist</th>\n",
       "      <th>lyrics</th>\n",
       "      <th>name</th>\n",
       "      <th>rank</th>\n",
       "      <th>song</th>\n",
       "      <th>url</th>\n",
       "      <th>urltag</th>\n",
       "      <th>year</th>\n",
       "      <th>lyrics_clean</th>\n",
       "      <th>lyrics_lem</th>\n",
       "      <th>engagement_high</th>\n",
       "      <th>song_id</th>\n",
       "    </tr>\n",
       "  </thead>\n",
       "  <tbody>\n",
       "    <tr>\n",
       "      <th>0</th>\n",
       "      <td>Chicago</td>\n",
       "      <td>[Verse 1]\\nWhen you called me up this morning\\...</td>\n",
       "      <td>Hot100</td>\n",
       "      <td>1</td>\n",
       "      <td>Look Away</td>\n",
       "      <td>https://www.billboard.com/charts/year-end/1989...</td>\n",
       "      <td>hot-100-songs</td>\n",
       "      <td>1989</td>\n",
       "      <td>called morning told new love found said happy ...</td>\n",
       "      <td>call morning tell new love find say happy real...</td>\n",
       "      <td>1</td>\n",
       "      <td>4fb25ccd98e9aff41259ccc11c3c636609180e8e</td>\n",
       "    </tr>\n",
       "    <tr>\n",
       "      <th>1</th>\n",
       "      <td>Bobby Brown</td>\n",
       "      <td>Get busy!\\n\\n[Chorus]\\nEverybody's talking all...</td>\n",
       "      <td>Hot100</td>\n",
       "      <td>2</td>\n",
       "      <td>My Prerogative</td>\n",
       "      <td>https://www.billboard.com/charts/year-end/1989...</td>\n",
       "      <td>hot-100-songs</td>\n",
       "      <td>1989</td>\n",
       "      <td>get busy chorus everybody talking stuff let li...</td>\n",
       "      <td>get busy chorus everybody talk stuff let live ...</td>\n",
       "      <td>1</td>\n",
       "      <td>db815992930d3614142c44154b78798028c7207e</td>\n",
       "    </tr>\n",
       "    <tr>\n",
       "      <th>2</th>\n",
       "      <td>Poison</td>\n",
       "      <td>[Verse 1]\\nWe both lie silently still in the d...</td>\n",
       "      <td>Hot100</td>\n",
       "      <td>3</td>\n",
       "      <td>Every Rose Has Its Thorn</td>\n",
       "      <td>https://www.billboard.com/charts/year-end/1989...</td>\n",
       "      <td>hot-100-songs</td>\n",
       "      <td>1989</td>\n",
       "      <td>lie silently still dead night although lie clo...</td>\n",
       "      <td>lie silently still dead night although lie clo...</td>\n",
       "      <td>1</td>\n",
       "      <td>4f6283ee0b9f9e18763adb1c987b50c5e705dc13</td>\n",
       "    </tr>\n",
       "    <tr>\n",
       "      <th>3</th>\n",
       "      <td>Paula Abdul</td>\n",
       "      <td>[Verse 1]\\nLost in a dream\\nI don't know which...</td>\n",
       "      <td>Hot100</td>\n",
       "      <td>4</td>\n",
       "      <td>Straight Up</td>\n",
       "      <td>https://www.billboard.com/charts/year-end/1989...</td>\n",
       "      <td>hot-100-songs</td>\n",
       "      <td>1989</td>\n",
       "      <td>lost dream know way go ahlet say seem baby mov...</td>\n",
       "      <td>lose dream know way go ahlet say seem baby mov...</td>\n",
       "      <td>1</td>\n",
       "      <td>cace324cef06cc6e71ec16470a97dd20390d3491</td>\n",
       "    </tr>\n",
       "    <tr>\n",
       "      <th>4</th>\n",
       "      <td>Janet Jackson</td>\n",
       "      <td>[Verse 1]\\nShot like an arrow going through my...</td>\n",
       "      <td>Hot100</td>\n",
       "      <td>5</td>\n",
       "      <td>Miss You Much</td>\n",
       "      <td>https://www.billboard.com/charts/year-end/1989...</td>\n",
       "      <td>hot-100-songs</td>\n",
       "      <td>1989</td>\n",
       "      <td>shot like arrow going heart pain feel feel whe...</td>\n",
       "      <td>shoot like arrow go heart pain feel feel whene...</td>\n",
       "      <td>1</td>\n",
       "      <td>15ae333443d0bb5dde729d4f05989ff860531cde</td>\n",
       "    </tr>\n",
       "  </tbody>\n",
       "</table>\n",
       "</div>"
      ],
      "text/plain": [
       "          artist                                             lyrics    name  \\\n",
       "0        Chicago  [Verse 1]\\nWhen you called me up this morning\\...  Hot100   \n",
       "1    Bobby Brown  Get busy!\\n\\n[Chorus]\\nEverybody's talking all...  Hot100   \n",
       "2         Poison  [Verse 1]\\nWe both lie silently still in the d...  Hot100   \n",
       "3    Paula Abdul  [Verse 1]\\nLost in a dream\\nI don't know which...  Hot100   \n",
       "4  Janet Jackson  [Verse 1]\\nShot like an arrow going through my...  Hot100   \n",
       "\n",
       "   rank                      song  \\\n",
       "0     1                 Look Away   \n",
       "1     2            My Prerogative   \n",
       "2     3  Every Rose Has Its Thorn   \n",
       "3     4               Straight Up   \n",
       "4     5             Miss You Much   \n",
       "\n",
       "                                                 url         urltag  year  \\\n",
       "0  https://www.billboard.com/charts/year-end/1989...  hot-100-songs  1989   \n",
       "1  https://www.billboard.com/charts/year-end/1989...  hot-100-songs  1989   \n",
       "2  https://www.billboard.com/charts/year-end/1989...  hot-100-songs  1989   \n",
       "3  https://www.billboard.com/charts/year-end/1989...  hot-100-songs  1989   \n",
       "4  https://www.billboard.com/charts/year-end/1989...  hot-100-songs  1989   \n",
       "\n",
       "                                        lyrics_clean  \\\n",
       "0  called morning told new love found said happy ...   \n",
       "1  get busy chorus everybody talking stuff let li...   \n",
       "2  lie silently still dead night although lie clo...   \n",
       "3  lost dream know way go ahlet say seem baby mov...   \n",
       "4  shot like arrow going heart pain feel feel whe...   \n",
       "\n",
       "                                          lyrics_lem  engagement_high  \\\n",
       "0  call morning tell new love find say happy real...                1   \n",
       "1  get busy chorus everybody talk stuff let live ...                1   \n",
       "2  lie silently still dead night although lie clo...                1   \n",
       "3  lose dream know way go ahlet say seem baby mov...                1   \n",
       "4  shoot like arrow go heart pain feel feel whene...                1   \n",
       "\n",
       "                                    song_id  \n",
       "0  4fb25ccd98e9aff41259ccc11c3c636609180e8e  \n",
       "1  db815992930d3614142c44154b78798028c7207e  \n",
       "2  4f6283ee0b9f9e18763adb1c987b50c5e705dc13  \n",
       "3  cace324cef06cc6e71ec16470a97dd20390d3491  \n",
       "4  15ae333443d0bb5dde729d4f05989ff860531cde  "
      ]
     },
     "execution_count": 256,
     "metadata": {},
     "output_type": "execute_result"
    }
   ],
   "source": [
    "df=pd.read_excel('data_final.xlsx')\n",
    "df=df.dropna()\n",
    "print (df.shape) ; df.head()"
   ]
  },
  {
   "cell_type": "code",
   "execution_count": 257,
   "metadata": {
    "colab": {
     "base_uri": "https://localhost:8080/",
     "height": 35
    },
    "colab_type": "code",
    "id": "CvsSN7A6MfDY",
    "outputId": "f1ea605c-d950-4335-d8db-2a89d9f71cef"
   },
   "outputs": [
    {
     "data": {
      "text/plain": [
       "array([0], dtype=int64)"
      ]
     },
     "execution_count": 257,
     "metadata": {},
     "output_type": "execute_result"
    }
   ],
   "source": [
    "rk_eg = df[['rank', 'engagement_high']]\n",
    "rk_eg['engagement_high'][rk_eg['rank']<=25].unique()\n",
    "rk_eg['engagement_high'][rk_eg['rank']>25].unique()"
   ]
  },
  {
   "cell_type": "code",
   "execution_count": 258,
   "metadata": {
    "colab": {
     "base_uri": "https://localhost:8080/",
     "height": 461
    },
    "colab_type": "code",
    "id": "DaHhO9bPMyJc",
    "outputId": "10b5cb79-8b65-4399-f560-3fc3d6221e8f"
   },
   "outputs": [],
   "source": [
    "# word_vectorizer = CountVectorizer(ngram_range=(2,2),stop_words='english',\n",
    "#                                   analyzer ='word',max_features=25)\n",
    "# bigrams=word_vectorizer.fit(df['lyrics_lem']).vocabulary_\n",
    "# bigrams\n"
   ]
  },
  {
   "cell_type": "code",
   "execution_count": 259,
   "metadata": {
    "colab": {
     "base_uri": "https://localhost:8080/",
     "height": 906
    },
    "colab_type": "code",
    "id": "C0Rfgiq5NJOw",
    "outputId": "40cba39a-9322-4f2a-ddc8-c58a36a822e3"
   },
   "outputs": [],
   "source": [
    "# tri = CountVectorizer(ngram_range=(3,3),max_features=50,\n",
    "#                       stop_words='english',analyzer ='word')\n",
    "# trigrams=tri.fit(df['lyrics_lem']).vocabulary_\n",
    "# trigrams"
   ]
  },
  {
   "cell_type": "code",
   "execution_count": 260,
   "metadata": {
    "colab": {
     "base_uri": "https://localhost:8080/",
     "height": 347
    },
    "colab_type": "code",
    "id": "MAcPm__mNNDz",
    "outputId": "989d7e64-9aaf-4ff8-d1b8-558ef099e5d9",
    "scrolled": true
   },
   "outputs": [
    {
     "data": {
      "text/html": [
       "<div>\n",
       "<style scoped>\n",
       "    .dataframe tbody tr th:only-of-type {\n",
       "        vertical-align: middle;\n",
       "    }\n",
       "\n",
       "    .dataframe tbody tr th {\n",
       "        vertical-align: top;\n",
       "    }\n",
       "\n",
       "    .dataframe thead th {\n",
       "        text-align: right;\n",
       "    }\n",
       "</style>\n",
       "<table border=\"1\" class=\"dataframe\">\n",
       "  <thead>\n",
       "    <tr style=\"text-align: right;\">\n",
       "      <th></th>\n",
       "      <th>artist</th>\n",
       "      <th>lyrics</th>\n",
       "      <th>name</th>\n",
       "      <th>rank</th>\n",
       "      <th>song</th>\n",
       "      <th>url</th>\n",
       "      <th>urltag</th>\n",
       "      <th>year</th>\n",
       "      <th>lyrics_clean</th>\n",
       "      <th>lyrics_lem</th>\n",
       "      <th>engagement_high</th>\n",
       "      <th>song_id</th>\n",
       "    </tr>\n",
       "  </thead>\n",
       "  <tbody>\n",
       "    <tr>\n",
       "      <th>0</th>\n",
       "      <td>Chicago</td>\n",
       "      <td>[Verse 1]\\nWhen you called me up this morning\\...</td>\n",
       "      <td>Hot100</td>\n",
       "      <td>1</td>\n",
       "      <td>Look Away</td>\n",
       "      <td>https://www.billboard.com/charts/year-end/1989...</td>\n",
       "      <td>hot-100-songs</td>\n",
       "      <td>1989</td>\n",
       "      <td>called morning told new love found said happy ...</td>\n",
       "      <td>call morning tell new love find say happy real...</td>\n",
       "      <td>1</td>\n",
       "      <td>4fb25ccd98e9aff41259ccc11c3c636609180e8e</td>\n",
       "    </tr>\n",
       "    <tr>\n",
       "      <th>1</th>\n",
       "      <td>Bobby Brown</td>\n",
       "      <td>Get busy!\\n\\n[Chorus]\\nEverybody's talking all...</td>\n",
       "      <td>Hot100</td>\n",
       "      <td>2</td>\n",
       "      <td>My Prerogative</td>\n",
       "      <td>https://www.billboard.com/charts/year-end/1989...</td>\n",
       "      <td>hot-100-songs</td>\n",
       "      <td>1989</td>\n",
       "      <td>get busy chorus everybody talking stuff let li...</td>\n",
       "      <td>get busy chorus everybody talk stuff let live ...</td>\n",
       "      <td>1</td>\n",
       "      <td>db815992930d3614142c44154b78798028c7207e</td>\n",
       "    </tr>\n",
       "    <tr>\n",
       "      <th>2</th>\n",
       "      <td>Poison</td>\n",
       "      <td>[Verse 1]\\nWe both lie silently still in the d...</td>\n",
       "      <td>Hot100</td>\n",
       "      <td>3</td>\n",
       "      <td>Every Rose Has Its Thorn</td>\n",
       "      <td>https://www.billboard.com/charts/year-end/1989...</td>\n",
       "      <td>hot-100-songs</td>\n",
       "      <td>1989</td>\n",
       "      <td>lie silently still dead night although lie clo...</td>\n",
       "      <td>lie silently still dead night although lie clo...</td>\n",
       "      <td>1</td>\n",
       "      <td>4f6283ee0b9f9e18763adb1c987b50c5e705dc13</td>\n",
       "    </tr>\n",
       "  </tbody>\n",
       "</table>\n",
       "</div>"
      ],
      "text/plain": [
       "        artist                                             lyrics    name  \\\n",
       "0      Chicago  [Verse 1]\\nWhen you called me up this morning\\...  Hot100   \n",
       "1  Bobby Brown  Get busy!\\n\\n[Chorus]\\nEverybody's talking all...  Hot100   \n",
       "2       Poison  [Verse 1]\\nWe both lie silently still in the d...  Hot100   \n",
       "\n",
       "   rank                      song  \\\n",
       "0     1                 Look Away   \n",
       "1     2            My Prerogative   \n",
       "2     3  Every Rose Has Its Thorn   \n",
       "\n",
       "                                                 url         urltag  year  \\\n",
       "0  https://www.billboard.com/charts/year-end/1989...  hot-100-songs  1989   \n",
       "1  https://www.billboard.com/charts/year-end/1989...  hot-100-songs  1989   \n",
       "2  https://www.billboard.com/charts/year-end/1989...  hot-100-songs  1989   \n",
       "\n",
       "                                        lyrics_clean  \\\n",
       "0  called morning told new love found said happy ...   \n",
       "1  get busy chorus everybody talking stuff let li...   \n",
       "2  lie silently still dead night although lie clo...   \n",
       "\n",
       "                                          lyrics_lem  engagement_high  \\\n",
       "0  call morning tell new love find say happy real...                1   \n",
       "1  get busy chorus everybody talk stuff let live ...                1   \n",
       "2  lie silently still dead night although lie clo...                1   \n",
       "\n",
       "                                    song_id  \n",
       "0  4fb25ccd98e9aff41259ccc11c3c636609180e8e  \n",
       "1  db815992930d3614142c44154b78798028c7207e  \n",
       "2  4f6283ee0b9f9e18763adb1c987b50c5e705dc13  "
      ]
     },
     "execution_count": 260,
     "metadata": {},
     "output_type": "execute_result"
    }
   ],
   "source": [
    "df.head(3)"
   ]
  },
  {
   "cell_type": "markdown",
   "metadata": {},
   "source": [
    "## Baseline Accuracy: 75%"
   ]
  },
  {
   "cell_type": "code",
   "execution_count": 261,
   "metadata": {},
   "outputs": [
    {
     "data": {
      "text/plain": [
       "0.7507578309195015"
      ]
     },
     "execution_count": 261,
     "metadata": {},
     "output_type": "execute_result"
    }
   ],
   "source": [
    "len(df[df['engagement_high']==0])/(len(df[df['engagement_high']==1])+len(df[df['engagement_high']==0]))\n"
   ]
  },
  {
   "cell_type": "code",
   "execution_count": 262,
   "metadata": {
    "colab": {},
    "colab_type": "code",
    "id": "Vwm_gTuTNsJb"
   },
   "outputs": [],
   "source": [
    "from sklearn.model_selection import train_test_split\n",
    "from sklearn.linear_model import LogisticRegression\n",
    "from sklearn.metrics import confusion_matrix\n",
    "from sklearn.metrics import accuracy_score, roc_auc_score, f1_score \n",
    "\n",
    "X = df.drop('engagement_high',axis=1)\n",
    "y = df['engagement_high']\n",
    "X_train, X_test, y_train, y_test = train_test_split(X, y, test_size=0.2, random_state=0)"
   ]
  },
  {
   "cell_type": "markdown",
   "metadata": {
    "colab_type": "text",
    "id": "5BqxFkYaUJAU"
   },
   "source": [
    "## **1. Prediction with Unigrams **\n"
   ]
  },
  {
   "cell_type": "code",
   "execution_count": 263,
   "metadata": {
    "colab": {},
    "colab_type": "code",
    "id": "kGf5eNRqPbdR"
   },
   "outputs": [],
   "source": [
    "corpus1 = X_train['lyrics_lem'].tolist() \n",
    "vectorizer = TfidfVectorizer(max_features=500)\n",
    "X_tr = vectorizer.fit_transform(corpus1)\n",
    "corpus2 = X_test['lyrics_lem'].tolist()\n",
    "X_ts = vectorizer.transform(corpus2)\n",
    "\n",
    "data_tr = X_tr.toarray()\n",
    "dfx2_tr =pd.DataFrame(data=data_tr[0:,0:],\n",
    "            index=[i for i in range(data_tr.shape[0])],\n",
    "            columns=[vectorizer.get_feature_names()])\n",
    "\n",
    "data_ts = X_ts.toarray()\n",
    "dfx2_ts =pd.DataFrame(data=data_ts[0:,0:],\n",
    "            index=[i for i in range(data_ts.shape[0])],\n",
    "            columns=[vectorizer.get_feature_names()])"
   ]
  },
  {
   "cell_type": "code",
   "execution_count": 267,
   "metadata": {},
   "outputs": [],
   "source": [
    "# dfx2_tr.shape[0] + dfx2_ts.shape[0]"
   ]
  },
  {
   "cell_type": "code",
   "execution_count": 268,
   "metadata": {
    "colab": {
     "base_uri": "https://localhost:8080/",
     "height": 35
    },
    "colab_type": "code",
    "id": "pbsKptznRL1C",
    "outputId": "1f2a5ed8-dbf8-41b6-d2a3-077d02580141"
   },
   "outputs": [
    {
     "name": "stdout",
     "output_type": "stream",
     "text": [
      "====================================================================================================\n"
     ]
    }
   ],
   "source": [
    "from sklearn.utils.multiclass import unique_labels\n",
    "def plot_confusion_matrix(y_true, y_pred, classes,\n",
    "                          normalize=False,\n",
    "                          title=None,\n",
    "                          cmap=plt.cm.Blues):\n",
    "    \"\"\"\n",
    "    This function prints and plots the confusion matrix.\n",
    "    Normalization can be applied by setting `normalize=True`.\n",
    "    \"\"\"\n",
    "    if not title:\n",
    "        if normalize:\n",
    "            title = 'Normalized confusion matrix'\n",
    "        else:\n",
    "            title = 'Confusion matrix, without normalization'\n",
    "\n",
    "    # Compute confusion matrix\n",
    "    cm = confusion_matrix(y_true, y_pred)\n",
    "    # Only use the labels that appear in the data\n",
    "    classes = classes[unique_labels(y_true, y_pred)]\n",
    "    if normalize:\n",
    "        cm = cm.astype('float') / cm.sum(axis=1)[:, np.newaxis]\n",
    "        print(\"Normalized confusion matrix\")\n",
    "    else:\n",
    "        print('Confusion matrix, without normalization')\n",
    "\n",
    "    #print(cm)\n",
    "\n",
    "    fig, ax = plt.subplots()\n",
    "    im = ax.imshow(cm, interpolation='nearest', cmap=cmap)\n",
    "    ax.figure.colorbar(im, ax=ax)\n",
    "    # We want to show all ticks...\n",
    "    ax.set(xticks=np.arange(cm.shape[1]),\n",
    "           yticks=np.arange(cm.shape[0]),\n",
    "           # ... and label them with the respective list entries\n",
    "           xticklabels=classes, yticklabels=classes,\n",
    "           title=title,\n",
    "           ylabel='True label',\n",
    "           xlabel='Predicted label')\n",
    "\n",
    "    # Rotate the tick labels and set their alignment.\n",
    "    plt.setp(ax.get_xticklabels(), rotation=45, ha=\"right\",\n",
    "             rotation_mode=\"anchor\")\n",
    "\n",
    "    # Loop over data dimensions and create text annotations.\n",
    "    fmt = '.2f' if normalize else 'd'\n",
    "    thresh = cm.max() / 2.\n",
    "    for i in range(cm.shape[0]):\n",
    "        for j in range(cm.shape[1]):\n",
    "            ax.text(j, i, format(cm[i, j], fmt),\n",
    "                    ha=\"center\", va=\"center\",\n",
    "                    color=\"white\" if cm[i, j] > thresh else \"black\")\n",
    "    fig.tight_layout()\n",
    "    return ax\n",
    "print(\"=\"*100)\n",
    "from sklearn.metrics import confusion_matrix\n",
    "#print(\"Train confusion matrix\")"
   ]
  },
  {
   "cell_type": "code",
   "execution_count": 269,
   "metadata": {
    "colab": {
     "base_uri": "https://localhost:8080/",
     "height": 404
    },
    "colab_type": "code",
    "id": "fsPEGu5ZQS4r",
    "outputId": "72fdb28e-fb73-478e-f6ec-7989b700180d"
   },
   "outputs": [
    {
     "name": "stdout",
     "output_type": "stream",
     "text": [
      "Accuracy Score: 0.8922558922558923\n",
      "ROC_AUC Score: 0.8907172373081464\n",
      "F1 Score: 0.7499999999999999\n",
      "Confusion Matrix:\n",
      "Confusion matrix, without normalization\n"
     ]
    },
    {
     "data": {
      "text/plain": [
       "<matplotlib.axes._subplots.AxesSubplot at 0x22d8033d0b8>"
      ]
     },
     "execution_count": 269,
     "metadata": {},
     "output_type": "execute_result"
    },
    {
     "data": {
      "image/png": "[encoded data removed]",
      "text/plain": [
       "<Figure size 432x288 with 2 Axes>"
      ]
     },
     "metadata": {
      "needs_background": "light"
     },
     "output_type": "display_data"
    }
   ],
   "source": [
    "model = LogisticRegression()\n",
    "model.fit(X_tr,y_train)\n",
    "y_pred = model.predict(X_ts)\n",
    "y_pred_score = model.predict_proba(X_ts)[:,1]\n",
    "cm = confusion_matrix(y_test, y_pred)\n",
    "\n",
    "print('Accuracy Score:',accuracy_score(y_test,y_pred))\n",
    "print('ROC_AUC Score:',roc_auc_score(y_test,y_pred_score))\n",
    "print('F1 Score:',f1_score(y_test,y_pred))\n",
    "print('Confusion Matrix:')\n",
    "#pd.DataFrame(cm, columns=['actual', 'predicted'])\n",
    "\n",
    "\n",
    "plot_confusion_matrix(y_true = y_test, \n",
    "                      y_pred = y_pred, classes = np.unique(y_test),\n",
    "                     title = 'Confusion matrix')"
   ]
  },
  {
   "cell_type": "code",
   "execution_count": 272,
   "metadata": {},
   "outputs": [
    {
     "name": "stdout",
     "output_type": "stream",
     "text": [
      "Accuracy Score: 0.8282828282828283\n",
      "ROC_AUC Score: 0.8945395513577332\n",
      "F1 Score: 0.6999999999999998\n",
      "Confusion Matrix:\n",
      "Confusion matrix, without normalization\n"
     ]
    },
    {
     "data": {
      "text/plain": [
       "<matplotlib.axes._subplots.AxesSubplot at 0x22de6089b00>"
      ]
     },
     "execution_count": 272,
     "metadata": {},
     "output_type": "execute_result"
    },
    {
     "data": {
      "image/png": "[encoded data removed]",
      "text/plain": [
       "<Figure size 432x288 with 2 Axes>"
      ]
     },
     "metadata": {
      "needs_background": "light"
     },
     "output_type": "display_data"
    }
   ],
   "source": [
    "model = LogisticRegression(class_weight='balanced')\n",
    "model.fit(X_tr,y_train)\n",
    "y_pred = model.predict(X_ts)\n",
    "y_pred_score = model.predict_proba(X_ts)[:,1]\n",
    "cm = confusion_matrix(y_test, y_pred)\n",
    "\n",
    "print('Accuracy Score:',accuracy_score(y_test,y_pred))\n",
    "print('ROC_AUC Score:',roc_auc_score(y_test,y_pred_score))\n",
    "print('F1 Score:',f1_score(y_test,y_pred))\n",
    "print('Confusion Matrix:')\n",
    "#pd.DataFrame(cm, columns=['actual', 'predicted'])\n",
    "\n",
    "\n",
    "plot_confusion_matrix(y_true = y_test, \n",
    "                      y_pred = y_pred, classes = np.unique(y_test),\n",
    "                     title = 'Confusion matrix')"
   ]
  },
  {
   "cell_type": "markdown",
   "metadata": {
    "colab_type": "text",
    "id": "ehrA5igWU_E7"
   },
   "source": [
    "\n",
    "## **2. Prediction with bigrams **"
   ]
  },
  {
   "cell_type": "code",
   "execution_count": 273,
   "metadata": {
    "colab": {
     "base_uri": "https://localhost:8080/",
     "height": 55
    },
    "colab_type": "code",
    "id": "Xk2WKQnYTnrV",
    "outputId": "ad2c180c-4387-441f-d051-ccfeaf5af927"
   },
   "outputs": [],
   "source": [
    "corpus200 = X_train['lyrics_lem'].tolist() \n",
    "vectorizer2 = TfidfVectorizer(ngram_range=(2, 2), max_features=500)\n",
    "X_tr200 = vectorizer2.fit_transform(corpus200)\n",
    "corpus201 = X_test['lyrics_lem'].tolist()\n",
    "X_ts200 = vectorizer2.transform(corpus201)\n",
    "#print(vectorizer2.get_feature_names())"
   ]
  },
  {
   "cell_type": "code",
   "execution_count": 274,
   "metadata": {
    "colab": {
     "base_uri": "https://localhost:8080/",
     "height": 404
    },
    "colab_type": "code",
    "id": "JXikF1aEVeoa",
    "outputId": "5c6f19df-0b91-4d9b-e5b7-efe6372ca32d"
   },
   "outputs": [
    {
     "name": "stdout",
     "output_type": "stream",
     "text": [
      "Accuracy Score: 0.8838383838383839\n",
      "ROC_AUC Score: 0.871745867768595\n",
      "F1 Score: 0.7294117647058824\n",
      "Confusion Matrix:\n",
      "Confusion matrix, without normalization\n"
     ]
    },
    {
     "data": {
      "text/plain": [
       "<matplotlib.axes._subplots.AxesSubplot at 0x22de80b7e80>"
      ]
     },
     "execution_count": 274,
     "metadata": {},
     "output_type": "execute_result"
    },
    {
     "data": {
      "image/png": "[encoded data removed]",
      "text/plain": [
       "<Figure size 432x288 with 2 Axes>"
      ]
     },
     "metadata": {
      "needs_background": "light"
     },
     "output_type": "display_data"
    }
   ],
   "source": [
    "model = LogisticRegression()\n",
    "model.fit(X_tr200,y_train)\n",
    "y_pred2 = model.predict(X_ts200)\n",
    "y_pred_score2 = model.predict_proba(X_ts200)[:,1]\n",
    "cm = confusion_matrix(y_test, y_pred2)\n",
    "\n",
    "print('Accuracy Score:',accuracy_score(y_test,y_pred2))\n",
    "print('ROC_AUC Score:',roc_auc_score(y_test,y_pred_score2))\n",
    "print('F1 Score:',f1_score(y_test,y_pred2))\n",
    "print('Confusion Matrix:')\n",
    "  \n",
    "\n",
    "plot_confusion_matrix(y_true = y_test, \n",
    "                      y_pred = y_pred2, classes = np.unique(y_test),\n",
    "                     title = 'Confusion matrix')"
   ]
  },
  {
   "cell_type": "markdown",
   "metadata": {
    "colab_type": "text",
    "id": "gOddHkx4Wzr7"
   },
   "source": [
    "## **3. Prediction with trigrams **\n",
    "\n"
   ]
  },
  {
   "cell_type": "code",
   "execution_count": 275,
   "metadata": {
    "colab": {
     "base_uri": "https://localhost:8080/",
     "height": 55
    },
    "colab_type": "code",
    "id": "X3Qt4eBHWxx7",
    "outputId": "6e0b2d21-f72d-4277-f018-b37632e90400"
   },
   "outputs": [],
   "source": [
    "corpus300 = X_train['lyrics_lem'].tolist() \n",
    "vectorizer3 = TfidfVectorizer(ngram_range=(3, 3), max_features=500)\n",
    "X_tr300 = vectorizer3.fit_transform(corpus300)\n",
    "corpus301 = X_test['lyrics_lem'].tolist()\n",
    "X_ts300 = vectorizer3.transform(corpus301)\n",
    "#print(vectorizer3.get_feature_names())"
   ]
  },
  {
   "cell_type": "code",
   "execution_count": 276,
   "metadata": {
    "colab": {
     "base_uri": "https://localhost:8080/",
     "height": 404
    },
    "colab_type": "code",
    "id": "drYMwu3AXPjH",
    "outputId": "ae6391df-b1bf-49de-cfd4-5ddcc4607b6d"
   },
   "outputs": [
    {
     "name": "stdout",
     "output_type": "stream",
     "text": [
      "Accuracy Score: 0.8653198653198653\n",
      "ROC_AUC Score: 0.8563090318772136\n",
      "F1 Score: 0.6551724137931034\n",
      "Confusion Matrix:\n",
      "Confusion matrix, without normalization\n"
     ]
    },
    {
     "data": {
      "text/plain": [
       "<matplotlib.axes._subplots.AxesSubplot at 0x22de4d47668>"
      ]
     },
     "execution_count": 276,
     "metadata": {},
     "output_type": "execute_result"
    },
    {
     "data": {
      "image/png": "[encoded data removed]",
      "text/plain": [
       "<Figure size 432x288 with 2 Axes>"
      ]
     },
     "metadata": {
      "needs_background": "light"
     },
     "output_type": "display_data"
    }
   ],
   "source": [
    "model = LogisticRegression()\n",
    "model.fit(X_tr300,y_train)\n",
    "y_pred3 = model.predict(X_ts300)\n",
    "y_pred_score3 = model.predict_proba(X_ts300)[:,1]\n",
    "cm = confusion_matrix(y_test, y_pred3)\n",
    "\n",
    "print('Accuracy Score:',accuracy_score(y_test,y_pred3))\n",
    "print('ROC_AUC Score:',roc_auc_score(y_test,y_pred_score3))\n",
    "print('F1 Score:',f1_score(y_test,y_pred3))\n",
    "print('Confusion Matrix:')\n",
    "  \n",
    "\n",
    "plot_confusion_matrix(y_true = y_test, \n",
    "                      y_pred = y_pred3, classes = np.unique(y_test),\n",
    "                     title = 'Confusion matrix')"
   ]
  },
  {
   "cell_type": "markdown",
   "metadata": {
    "colab_type": "text",
    "id": "LFGBv6xDYZdN"
   },
   "source": [
    "### Double the number of features for trigrams could yield comparable accuracy with bigrams \n"
   ]
  },
  {
   "cell_type": "code",
   "execution_count": 277,
   "metadata": {
    "colab": {
     "base_uri": "https://localhost:8080/",
     "height": 441
    },
    "colab_type": "code",
    "id": "MoMCbvWAX_Tr",
    "outputId": "85b3ef59-69c0-470e-db5b-28565a5dd0ae",
    "scrolled": true
   },
   "outputs": [
    {
     "name": "stdout",
     "output_type": "stream",
     "text": [
      "Accuracy Score: 0.8787878787878788\n",
      "ROC_AUC Score: 0.8874926210153483\n",
      "F1 Score: 0.7\n",
      "Confusion Matrix:\n",
      "Confusion matrix, without normalization\n"
     ]
    },
    {
     "data": {
      "text/plain": [
       "<matplotlib.axes._subplots.AxesSubplot at 0x22de36ab860>"
      ]
     },
     "execution_count": 277,
     "metadata": {},
     "output_type": "execute_result"
    },
    {
     "data": {
      "image/png": "[encoded data removed]",
      "text/plain": [
       "<Figure size 432x288 with 2 Axes>"
      ]
     },
     "metadata": {
      "needs_background": "light"
     },
     "output_type": "display_data"
    }
   ],
   "source": [
    "corpus300 = X_train['lyrics_lem'].tolist() \n",
    "vectorizer3 = TfidfVectorizer(ngram_range=(3, 3), max_features=1000)\n",
    "X_tr300 = vectorizer3.fit_transform(corpus300)\n",
    "corpus301 = X_test['lyrics_lem'].tolist()\n",
    "X_ts300 = vectorizer3.transform(corpus301)\n",
    "#print(vectorizer3.get_feature_names())\n",
    "\n",
    "model = LogisticRegression()\n",
    "model.fit(X_tr300,y_train)\n",
    "y_pred3 = model.predict(X_ts300)\n",
    "y_pred_score3 = model.predict_proba(X_ts300)[:,1]\n",
    "cm = confusion_matrix(y_test, y_pred3)\n",
    "\n",
    "print('Accuracy Score:',accuracy_score(y_test,y_pred3))\n",
    "print('ROC_AUC Score:',roc_auc_score(y_test,y_pred_score3))\n",
    "print('F1 Score:',f1_score(y_test,y_pred3))\n",
    "print('Confusion Matrix:')\n",
    "  \n",
    "\n",
    "plot_confusion_matrix(y_true = y_test, \n",
    "                      y_pred = y_pred3, classes = np.unique(y_test),\n",
    "                     title = 'Confusion matrix')"
   ]
  },
  {
   "cell_type": "markdown",
   "metadata": {},
   "source": [
    "## Regressing artist, may not need to do this "
   ]
  },
  {
   "cell_type": "code",
   "execution_count": 278,
   "metadata": {
    "colab": {
     "base_uri": "https://localhost:8080/",
     "height": 341
    },
    "colab_type": "code",
    "id": "vRiiDeR0ZH3u",
    "outputId": "8bdd3b19-f816-4033-d647-353eaa397999"
   },
   "outputs": [],
   "source": [
    "# df['artist']\n",
    "# artists = df.artist.unique()\n",
    "# artists\n",
    "# df_artist = df.reindex(columns=artists) \n",
    "# df_artist.head(3)"
   ]
  },
  {
   "cell_type": "code",
   "execution_count": 279,
   "metadata": {
    "colab": {},
    "colab_type": "code",
    "id": "W3ZkLFXfdVMs"
   },
   "outputs": [],
   "source": [
    "# df_artist.iloc[0,0] = 1"
   ]
  },
  {
   "cell_type": "code",
   "execution_count": 280,
   "metadata": {
    "colab": {
     "base_uri": "https://localhost:8080/",
     "height": 35
    },
    "colab_type": "code",
    "id": "e2vHwaTtfQRZ",
    "outputId": "6570d8ce-64f1-4f23-a37f-e20697fcc173"
   },
   "outputs": [],
   "source": [
    "# df_artist.shape\n",
    "# df['engagement_high'].shape"
   ]
  },
  {
   "cell_type": "code",
   "execution_count": 281,
   "metadata": {
    "colab": {},
    "colab_type": "code",
    "id": "NOt0ehh_eFyO"
   },
   "outputs": [],
   "source": [
    "# for i in range(2969):\n",
    "#   df_artist.iloc[i,i] = 1\n",
    "# df_artist\n",
    "# df_artist['artist'] = df['artist']\n"
   ]
  },
  {
   "cell_type": "markdown",
   "metadata": {
    "colab": {},
    "colab_type": "code",
    "id": "vV3CgFqBi1IA"
   },
   "source": [
    "## sentiment analysis "
   ]
  },
  {
   "cell_type": "code",
   "execution_count": null,
   "metadata": {},
   "outputs": [],
   "source": []
  },
  {
   "cell_type": "code",
   "execution_count": 282,
   "metadata": {},
   "outputs": [
    {
     "data": {
      "text/html": [
       "<div>\n",
       "<style scoped>\n",
       "    .dataframe tbody tr th:only-of-type {\n",
       "        vertical-align: middle;\n",
       "    }\n",
       "\n",
       "    .dataframe tbody tr th {\n",
       "        vertical-align: top;\n",
       "    }\n",
       "\n",
       "    .dataframe thead th {\n",
       "        text-align: right;\n",
       "    }\n",
       "</style>\n",
       "<table border=\"1\" class=\"dataframe\">\n",
       "  <thead>\n",
       "    <tr style=\"text-align: right;\">\n",
       "      <th></th>\n",
       "      <th>artist</th>\n",
       "      <th>lyrics</th>\n",
       "      <th>name</th>\n",
       "      <th>rank</th>\n",
       "      <th>song</th>\n",
       "      <th>url</th>\n",
       "      <th>urltag</th>\n",
       "      <th>year</th>\n",
       "      <th>lyrics_clean</th>\n",
       "      <th>lyrics_lem</th>\n",
       "      <th>engagement_high</th>\n",
       "      <th>song_id</th>\n",
       "      <th>compound</th>\n",
       "      <th>neg</th>\n",
       "      <th>neu</th>\n",
       "      <th>pos</th>\n",
       "    </tr>\n",
       "  </thead>\n",
       "  <tbody>\n",
       "    <tr>\n",
       "      <th>0</th>\n",
       "      <td>Chicago</td>\n",
       "      <td>[Verse 1]\\nWhen you called me up this morning\\...</td>\n",
       "      <td>Hot100</td>\n",
       "      <td>1</td>\n",
       "      <td>Look Away</td>\n",
       "      <td>https://www.billboard.com/charts/year-end/1989...</td>\n",
       "      <td>hot-100-songs</td>\n",
       "      <td>1989</td>\n",
       "      <td>called morning told new love found said happy ...</td>\n",
       "      <td>call morning tell new love find say happy real...</td>\n",
       "      <td>1</td>\n",
       "      <td>4fb25ccd98e9aff41259ccc11c3c636609180e8e</td>\n",
       "      <td>0.9939</td>\n",
       "      <td>0.022</td>\n",
       "      <td>0.675</td>\n",
       "      <td>0.304</td>\n",
       "    </tr>\n",
       "    <tr>\n",
       "      <th>1</th>\n",
       "      <td>Bobby Brown</td>\n",
       "      <td>Get busy!\\n\\n[Chorus]\\nEverybody's talking all...</td>\n",
       "      <td>Hot100</td>\n",
       "      <td>2</td>\n",
       "      <td>My Prerogative</td>\n",
       "      <td>https://www.billboard.com/charts/year-end/1989...</td>\n",
       "      <td>hot-100-songs</td>\n",
       "      <td>1989</td>\n",
       "      <td>get busy chorus everybody talking stuff let li...</td>\n",
       "      <td>get busy chorus everybody talk stuff let live ...</td>\n",
       "      <td>1</td>\n",
       "      <td>db815992930d3614142c44154b78798028c7207e</td>\n",
       "      <td>0.0892</td>\n",
       "      <td>0.077</td>\n",
       "      <td>0.849</td>\n",
       "      <td>0.074</td>\n",
       "    </tr>\n",
       "    <tr>\n",
       "      <th>2</th>\n",
       "      <td>Poison</td>\n",
       "      <td>[Verse 1]\\nWe both lie silently still in the d...</td>\n",
       "      <td>Hot100</td>\n",
       "      <td>3</td>\n",
       "      <td>Every Rose Has Its Thorn</td>\n",
       "      <td>https://www.billboard.com/charts/year-end/1989...</td>\n",
       "      <td>hot-100-songs</td>\n",
       "      <td>1989</td>\n",
       "      <td>lie silently still dead night although lie clo...</td>\n",
       "      <td>lie silently still dead night although lie clo...</td>\n",
       "      <td>1</td>\n",
       "      <td>4f6283ee0b9f9e18763adb1c987b50c5e705dc13</td>\n",
       "      <td>0.9423</td>\n",
       "      <td>0.163</td>\n",
       "      <td>0.588</td>\n",
       "      <td>0.249</td>\n",
       "    </tr>\n",
       "    <tr>\n",
       "      <th>3</th>\n",
       "      <td>Paula Abdul</td>\n",
       "      <td>[Verse 1]\\nLost in a dream\\nI don't know which...</td>\n",
       "      <td>Hot100</td>\n",
       "      <td>4</td>\n",
       "      <td>Straight Up</td>\n",
       "      <td>https://www.billboard.com/charts/year-end/1989...</td>\n",
       "      <td>hot-100-songs</td>\n",
       "      <td>1989</td>\n",
       "      <td>lost dream know way go ahlet say seem baby mov...</td>\n",
       "      <td>lose dream know way go ahlet say seem baby mov...</td>\n",
       "      <td>1</td>\n",
       "      <td>cace324cef06cc6e71ec16470a97dd20390d3491</td>\n",
       "      <td>0.9991</td>\n",
       "      <td>0.044</td>\n",
       "      <td>0.488</td>\n",
       "      <td>0.467</td>\n",
       "    </tr>\n",
       "    <tr>\n",
       "      <th>4</th>\n",
       "      <td>Janet Jackson</td>\n",
       "      <td>[Verse 1]\\nShot like an arrow going through my...</td>\n",
       "      <td>Hot100</td>\n",
       "      <td>5</td>\n",
       "      <td>Miss You Much</td>\n",
       "      <td>https://www.billboard.com/charts/year-end/1989...</td>\n",
       "      <td>hot-100-songs</td>\n",
       "      <td>1989</td>\n",
       "      <td>shot like arrow going heart pain feel feel whe...</td>\n",
       "      <td>shoot like arrow go heart pain feel feel whene...</td>\n",
       "      <td>1</td>\n",
       "      <td>15ae333443d0bb5dde729d4f05989ff860531cde</td>\n",
       "      <td>-0.9871</td>\n",
       "      <td>0.327</td>\n",
       "      <td>0.565</td>\n",
       "      <td>0.108</td>\n",
       "    </tr>\n",
       "  </tbody>\n",
       "</table>\n",
       "</div>"
      ],
      "text/plain": [
       "          artist                                             lyrics    name  \\\n",
       "0        Chicago  [Verse 1]\\nWhen you called me up this morning\\...  Hot100   \n",
       "1    Bobby Brown  Get busy!\\n\\n[Chorus]\\nEverybody's talking all...  Hot100   \n",
       "2         Poison  [Verse 1]\\nWe both lie silently still in the d...  Hot100   \n",
       "3    Paula Abdul  [Verse 1]\\nLost in a dream\\nI don't know which...  Hot100   \n",
       "4  Janet Jackson  [Verse 1]\\nShot like an arrow going through my...  Hot100   \n",
       "\n",
       "   rank                      song  \\\n",
       "0     1                 Look Away   \n",
       "1     2            My Prerogative   \n",
       "2     3  Every Rose Has Its Thorn   \n",
       "3     4               Straight Up   \n",
       "4     5             Miss You Much   \n",
       "\n",
       "                                                 url         urltag  year  \\\n",
       "0  https://www.billboard.com/charts/year-end/1989...  hot-100-songs  1989   \n",
       "1  https://www.billboard.com/charts/year-end/1989...  hot-100-songs  1989   \n",
       "2  https://www.billboard.com/charts/year-end/1989...  hot-100-songs  1989   \n",
       "3  https://www.billboard.com/charts/year-end/1989...  hot-100-songs  1989   \n",
       "4  https://www.billboard.com/charts/year-end/1989...  hot-100-songs  1989   \n",
       "\n",
       "                                        lyrics_clean  \\\n",
       "0  called morning told new love found said happy ...   \n",
       "1  get busy chorus everybody talking stuff let li...   \n",
       "2  lie silently still dead night although lie clo...   \n",
       "3  lost dream know way go ahlet say seem baby mov...   \n",
       "4  shot like arrow going heart pain feel feel whe...   \n",
       "\n",
       "                                          lyrics_lem  engagement_high  \\\n",
       "0  call morning tell new love find say happy real...                1   \n",
       "1  get busy chorus everybody talk stuff let live ...                1   \n",
       "2  lie silently still dead night although lie clo...                1   \n",
       "3  lose dream know way go ahlet say seem baby mov...                1   \n",
       "4  shoot like arrow go heart pain feel feel whene...                1   \n",
       "\n",
       "                                    song_id  compound    neg    neu    pos  \n",
       "0  4fb25ccd98e9aff41259ccc11c3c636609180e8e    0.9939  0.022  0.675  0.304  \n",
       "1  db815992930d3614142c44154b78798028c7207e    0.0892  0.077  0.849  0.074  \n",
       "2  4f6283ee0b9f9e18763adb1c987b50c5e705dc13    0.9423  0.163  0.588  0.249  \n",
       "3  cace324cef06cc6e71ec16470a97dd20390d3491    0.9991  0.044  0.488  0.467  \n",
       "4  15ae333443d0bb5dde729d4f05989ff860531cde   -0.9871  0.327  0.565  0.108  "
      ]
     },
     "execution_count": 282,
     "metadata": {},
     "output_type": "execute_result"
    }
   ],
   "source": [
    "from vaderSentiment.vaderSentiment import SentimentIntensityAnalyzer\n",
    "analyser = SentimentIntensityAnalyzer()\n",
    "\n",
    "#getting the sentiment scores\n",
    "chk=[]\n",
    "for items in df['lyrics_lem']:\n",
    "    chk.append(analyser.polarity_scores(items))\n",
    "\n",
    "#into a dataframe\n",
    "scorels=pd.DataFrame(chk)\n",
    "df_new=df.merge(scorels, holeft_index=True, right_index=True)\n",
    "df_new.head(5)"
   ]
  },
  {
   "cell_type": "code",
   "execution_count": 287,
   "metadata": {},
   "outputs": [],
   "source": [
    "df_c = pd.concat([df.reset_index(drop=True),scorels ], axis=1)"
   ]
  },
  {
   "cell_type": "code",
   "execution_count": 291,
   "metadata": {},
   "outputs": [
    {
     "data": {
      "text/html": [
       "<div>\n",
       "<style scoped>\n",
       "    .dataframe tbody tr th:only-of-type {\n",
       "        vertical-align: middle;\n",
       "    }\n",
       "\n",
       "    .dataframe tbody tr th {\n",
       "        vertical-align: top;\n",
       "    }\n",
       "\n",
       "    .dataframe thead th {\n",
       "        text-align: right;\n",
       "    }\n",
       "</style>\n",
       "<table border=\"1\" class=\"dataframe\">\n",
       "  <thead>\n",
       "    <tr style=\"text-align: right;\">\n",
       "      <th></th>\n",
       "      <th>artist</th>\n",
       "      <th>lyrics</th>\n",
       "      <th>name</th>\n",
       "      <th>rank</th>\n",
       "      <th>song</th>\n",
       "      <th>url</th>\n",
       "      <th>urltag</th>\n",
       "      <th>year</th>\n",
       "      <th>lyrics_clean</th>\n",
       "      <th>lyrics_lem</th>\n",
       "      <th>engagement_high</th>\n",
       "      <th>song_id</th>\n",
       "      <th>compound</th>\n",
       "      <th>neg</th>\n",
       "      <th>neu</th>\n",
       "      <th>pos</th>\n",
       "    </tr>\n",
       "  </thead>\n",
       "  <tbody>\n",
       "    <tr>\n",
       "      <th>0</th>\n",
       "      <td>Chicago</td>\n",
       "      <td>[Verse 1]\\nWhen you called me up this morning\\...</td>\n",
       "      <td>Hot100</td>\n",
       "      <td>1</td>\n",
       "      <td>Look Away</td>\n",
       "      <td>https://www.billboard.com/charts/year-end/1989...</td>\n",
       "      <td>hot-100-songs</td>\n",
       "      <td>1989</td>\n",
       "      <td>called morning told new love found said happy ...</td>\n",
       "      <td>call morning tell new love find say happy real...</td>\n",
       "      <td>1</td>\n",
       "      <td>4fb25ccd98e9aff41259ccc11c3c636609180e8e</td>\n",
       "      <td>0.9939</td>\n",
       "      <td>0.022</td>\n",
       "      <td>0.675</td>\n",
       "      <td>0.304</td>\n",
       "    </tr>\n",
       "    <tr>\n",
       "      <th>1</th>\n",
       "      <td>Bobby Brown</td>\n",
       "      <td>Get busy!\\n\\n[Chorus]\\nEverybody's talking all...</td>\n",
       "      <td>Hot100</td>\n",
       "      <td>2</td>\n",
       "      <td>My Prerogative</td>\n",
       "      <td>https://www.billboard.com/charts/year-end/1989...</td>\n",
       "      <td>hot-100-songs</td>\n",
       "      <td>1989</td>\n",
       "      <td>get busy chorus everybody talking stuff let li...</td>\n",
       "      <td>get busy chorus everybody talk stuff let live ...</td>\n",
       "      <td>1</td>\n",
       "      <td>db815992930d3614142c44154b78798028c7207e</td>\n",
       "      <td>0.0892</td>\n",
       "      <td>0.077</td>\n",
       "      <td>0.849</td>\n",
       "      <td>0.074</td>\n",
       "    </tr>\n",
       "    <tr>\n",
       "      <th>2</th>\n",
       "      <td>Poison</td>\n",
       "      <td>[Verse 1]\\nWe both lie silently still in the d...</td>\n",
       "      <td>Hot100</td>\n",
       "      <td>3</td>\n",
       "      <td>Every Rose Has Its Thorn</td>\n",
       "      <td>https://www.billboard.com/charts/year-end/1989...</td>\n",
       "      <td>hot-100-songs</td>\n",
       "      <td>1989</td>\n",
       "      <td>lie silently still dead night although lie clo...</td>\n",
       "      <td>lie silently still dead night although lie clo...</td>\n",
       "      <td>1</td>\n",
       "      <td>4f6283ee0b9f9e18763adb1c987b50c5e705dc13</td>\n",
       "      <td>0.9423</td>\n",
       "      <td>0.163</td>\n",
       "      <td>0.588</td>\n",
       "      <td>0.249</td>\n",
       "    </tr>\n",
       "    <tr>\n",
       "      <th>3</th>\n",
       "      <td>Paula Abdul</td>\n",
       "      <td>[Verse 1]\\nLost in a dream\\nI don't know which...</td>\n",
       "      <td>Hot100</td>\n",
       "      <td>4</td>\n",
       "      <td>Straight Up</td>\n",
       "      <td>https://www.billboard.com/charts/year-end/1989...</td>\n",
       "      <td>hot-100-songs</td>\n",
       "      <td>1989</td>\n",
       "      <td>lost dream know way go ahlet say seem baby mov...</td>\n",
       "      <td>lose dream know way go ahlet say seem baby mov...</td>\n",
       "      <td>1</td>\n",
       "      <td>cace324cef06cc6e71ec16470a97dd20390d3491</td>\n",
       "      <td>0.9991</td>\n",
       "      <td>0.044</td>\n",
       "      <td>0.488</td>\n",
       "      <td>0.467</td>\n",
       "    </tr>\n",
       "    <tr>\n",
       "      <th>4</th>\n",
       "      <td>Janet Jackson</td>\n",
       "      <td>[Verse 1]\\nShot like an arrow going through my...</td>\n",
       "      <td>Hot100</td>\n",
       "      <td>5</td>\n",
       "      <td>Miss You Much</td>\n",
       "      <td>https://www.billboard.com/charts/year-end/1989...</td>\n",
       "      <td>hot-100-songs</td>\n",
       "      <td>1989</td>\n",
       "      <td>shot like arrow going heart pain feel feel whe...</td>\n",
       "      <td>shoot like arrow go heart pain feel feel whene...</td>\n",
       "      <td>1</td>\n",
       "      <td>15ae333443d0bb5dde729d4f05989ff860531cde</td>\n",
       "      <td>-0.9871</td>\n",
       "      <td>0.327</td>\n",
       "      <td>0.565</td>\n",
       "      <td>0.108</td>\n",
       "    </tr>\n",
       "  </tbody>\n",
       "</table>\n",
       "</div>"
      ],
      "text/plain": [
       "          artist                                             lyrics    name  \\\n",
       "0        Chicago  [Verse 1]\\nWhen you called me up this morning\\...  Hot100   \n",
       "1    Bobby Brown  Get busy!\\n\\n[Chorus]\\nEverybody's talking all...  Hot100   \n",
       "2         Poison  [Verse 1]\\nWe both lie silently still in the d...  Hot100   \n",
       "3    Paula Abdul  [Verse 1]\\nLost in a dream\\nI don't know which...  Hot100   \n",
       "4  Janet Jackson  [Verse 1]\\nShot like an arrow going through my...  Hot100   \n",
       "\n",
       "   rank                      song  \\\n",
       "0     1                 Look Away   \n",
       "1     2            My Prerogative   \n",
       "2     3  Every Rose Has Its Thorn   \n",
       "3     4               Straight Up   \n",
       "4     5             Miss You Much   \n",
       "\n",
       "                                                 url         urltag  year  \\\n",
       "0  https://www.billboard.com/charts/year-end/1989...  hot-100-songs  1989   \n",
       "1  https://www.billboard.com/charts/year-end/1989...  hot-100-songs  1989   \n",
       "2  https://www.billboard.com/charts/year-end/1989...  hot-100-songs  1989   \n",
       "3  https://www.billboard.com/charts/year-end/1989...  hot-100-songs  1989   \n",
       "4  https://www.billboard.com/charts/year-end/1989...  hot-100-songs  1989   \n",
       "\n",
       "                                        lyrics_clean  \\\n",
       "0  called morning told new love found said happy ...   \n",
       "1  get busy chorus everybody talking stuff let li...   \n",
       "2  lie silently still dead night although lie clo...   \n",
       "3  lost dream know way go ahlet say seem baby mov...   \n",
       "4  shot like arrow going heart pain feel feel whe...   \n",
       "\n",
       "                                          lyrics_lem  engagement_high  \\\n",
       "0  call morning tell new love find say happy real...                1   \n",
       "1  get busy chorus everybody talk stuff let live ...                1   \n",
       "2  lie silently still dead night although lie clo...                1   \n",
       "3  lose dream know way go ahlet say seem baby mov...                1   \n",
       "4  shoot like arrow go heart pain feel feel whene...                1   \n",
       "\n",
       "                                    song_id  compound    neg    neu    pos  \n",
       "0  4fb25ccd98e9aff41259ccc11c3c636609180e8e    0.9939  0.022  0.675  0.304  \n",
       "1  db815992930d3614142c44154b78798028c7207e    0.0892  0.077  0.849  0.074  \n",
       "2  4f6283ee0b9f9e18763adb1c987b50c5e705dc13    0.9423  0.163  0.588  0.249  \n",
       "3  cace324cef06cc6e71ec16470a97dd20390d3491    0.9991  0.044  0.488  0.467  \n",
       "4  15ae333443d0bb5dde729d4f05989ff860531cde   -0.9871  0.327  0.565  0.108  "
      ]
     },
     "execution_count": 291,
     "metadata": {},
     "output_type": "execute_result"
    }
   ],
   "source": [
    "df_c.head()"
   ]
  },
  {
   "cell_type": "code",
   "execution_count": 290,
   "metadata": {},
   "outputs": [
    {
     "data": {
      "text/plain": [
       "array(['artist', 'lyrics', 'name', 'rank', 'song', 'url', 'urltag',\n",
       "       'year', 'lyrics_clean', 'lyrics_lem', 'engagement_high', 'song_id',\n",
       "       'compound', 'neg', 'neu', 'pos'], dtype=object)"
      ]
     },
     "execution_count": 290,
     "metadata": {},
     "output_type": "execute_result"
    }
   ],
   "source": [
    "df_new.columns.values"
   ]
  },
  {
   "cell_type": "markdown",
   "metadata": {},
   "source": [
    "## Regress with compound sentiment score "
   ]
  },
  {
   "cell_type": "code",
   "execution_count": 22,
   "metadata": {},
   "outputs": [],
   "source": [
    "#X_train, X_test, y_train, y_test = train_test_split(X, y, test_size=0.2, random_state=0)"
   ]
  },
  {
   "cell_type": "code",
   "execution_count": 108,
   "metadata": {
    "scrolled": true
   },
   "outputs": [],
   "source": [
    "X1=df_new[['compound']]\n",
    "y1 = df_new['engagement_high']\n",
    "X1_train, X1_test, y1_train, y1_test = train_test_split(X1, y1, test_size=0.2, random_state=0)\n"
   ]
  },
  {
   "cell_type": "code",
   "execution_count": 109,
   "metadata": {},
   "outputs": [
    {
     "data": {
      "text/plain": [
       "(2965, 2965)"
      ]
     },
     "execution_count": 109,
     "metadata": {},
     "output_type": "execute_result"
    }
   ],
   "source": [
    "len(X1), len(y1)"
   ]
  },
  {
   "cell_type": "code",
   "execution_count": 114,
   "metadata": {},
   "outputs": [
    {
     "name": "stdout",
     "output_type": "stream",
     "text": [
      "Accuracy Score: 0.7335581787521079\n",
      "ROC_AUC Score: 0.5281318201658665\n",
      "F1 Score: 0.0\n",
      "Confusion Matrix:\n",
      "Confusion matrix, without normalization\n"
     ]
    },
    {
     "data": {
      "text/plain": [
       "<matplotlib.axes._subplots.AxesSubplot at 0x22de6b92ba8>"
      ]
     },
     "execution_count": 114,
     "metadata": {},
     "output_type": "execute_result"
    },
    {
     "data": {
      "image/png": "[encoded data removed]",
      "text/plain": [
       "<Figure size 432x288 with 2 Axes>"
      ]
     },
     "metadata": {
      "needs_background": "light"
     },
     "output_type": "display_data"
    }
   ],
   "source": [
    "model = LogisticRegression()\n",
    "model.fit(X1_train,y1_train)\n",
    "y_pred_sent = model.predict(X1_test)\n",
    "y_pred_score_sent = model.predict_proba(X1_test)[:,1]\n",
    "#cm = confusion_matrix(y1_test, y_pred_sent)\n",
    "\n",
    "print('Accuracy Score:',accuracy_score(y1_test,y_pred_sent))\n",
    "print('ROC_AUC Score:',roc_auc_score(y1_test,y_pred_score_sent))\n",
    "print('F1 Score:',f1_score(y1_test,y_pred_sent))\n",
    "print('Confusion Matrix:')\n",
    "plot_confusion_matrix(y_true = y1_test, \n",
    "                      y_pred = y_pred_sent, classes = np.unique(y1_test),\n",
    "                     title = 'Confusion matrix')"
   ]
  },
  {
   "cell_type": "markdown",
   "metadata": {},
   "source": [
    "## Regress with Pos, Neg, Neu sentiment scores "
   ]
  },
  {
   "cell_type": "code",
   "execution_count": 113,
   "metadata": {},
   "outputs": [],
   "source": [
    "X2=df_new[['neg','neu','pos']]\n",
    "y1 = df_new['engagement_high']\n",
    "X2_train, X2_test, y1_train, y1_test = train_test_split(X2, y1, test_size=0.2, random_state=0)\n"
   ]
  },
  {
   "cell_type": "code",
   "execution_count": 115,
   "metadata": {
    "scrolled": true
   },
   "outputs": [
    {
     "name": "stdout",
     "output_type": "stream",
     "text": [
      "Accuracy Score: 0.7335581787521079\n",
      "ROC_AUC Score: 0.4816382947766623\n",
      "F1 Score: 0.0\n",
      "Confusion Matrix:\n",
      "Confusion matrix, without normalization\n"
     ]
    },
    {
     "data": {
      "text/plain": [
       "<matplotlib.axes._subplots.AxesSubplot at 0x22de6f6c630>"
      ]
     },
     "execution_count": 115,
     "metadata": {},
     "output_type": "execute_result"
    },
    {
     "data": {
      "image/png": "[encoded data removed]",
      "text/plain": [
       "<Figure size 432x288 with 2 Axes>"
      ]
     },
     "metadata": {
      "needs_background": "light"
     },
     "output_type": "display_data"
    }
   ],
   "source": [
    "model = LogisticRegression()\n",
    "model.fit(X2_train,y1_train)\n",
    "y_pred_sent2 = model.predict(X2_test)\n",
    "y_pred_score_sent2 = model.predict_proba(X2_test)[:,1]\n",
    "cm = confusion_matrix(y1_test, y_pred_sent2)\n",
    "\n",
    "print('Accuracy Score:',accuracy_score(y1_test,y_pred_sent2))\n",
    "print('ROC_AUC Score:',roc_auc_score(y1_test,y_pred_score_sent2))\n",
    "print('F1 Score:',f1_score(y1_test,y_pred_sent2))\n",
    "print('Confusion Matrix:')\n",
    "plot_confusion_matrix(y_true = y1_test, \n",
    "                      y_pred = y_pred_sent2, classes = np.unique(y1_test),\n",
    "                     title = 'Confusion matrix')"
   ]
  },
  {
   "cell_type": "markdown",
   "metadata": {},
   "source": [
    "## Regress with topic weights"
   ]
  },
  {
   "cell_type": "code",
   "execution_count": 295,
   "metadata": {},
   "outputs": [],
   "source": [
    "from sklearn.feature_extraction.text import CountVectorizer\n",
    "from sklearn.decomposition import LatentDirichletAllocation as LDA"
   ]
  },
  {
   "cell_type": "code",
   "execution_count": 296,
   "metadata": {},
   "outputs": [],
   "source": [
    "count_vectorizer = CountVectorizer(stop_words='english')\n",
    "count_data = count_vectorizer.fit_transform(df_c['lyrics_lem'])"
   ]
  },
  {
   "cell_type": "code",
   "execution_count": 297,
   "metadata": {
    "scrolled": true
   },
   "outputs": [
    {
     "name": "stdout",
     "output_type": "stream",
     "text": [
      "Topics found:\n",
      "\n",
      "Topic #0:\n",
      "na wan hey like yeah baby heyhey night love make\n",
      "\n",
      "Topic #1:\n",
      "bitch fuck ai like money lil make nigga niggas sound\n",
      "\n",
      "Topic #2:\n",
      "na let know baby love time feel chorus girl make\n",
      "\n",
      "Topic #3:\n",
      "oh like dance london girl shit girls na stupid wan\n",
      "\n",
      "Topic #4:\n",
      "know chorus like life yeah day way tell leave make\n",
      "\n",
      "Topic #5:\n",
      "like wit know ya rock oh ay make man run\n",
      "\n",
      "Topic #6:\n",
      "ya mir like du na girl heute mit bist gon\n",
      "\n",
      "Topic #7:\n",
      "wait slowly world change time hang little da thing day\n",
      "\n",
      "Topic #8:\n",
      "oh yeah ooh know say little like late chorus right\n",
      "\n",
      "Topic #9:\n",
      "rompe oh yeah time know cause record feel song let\n",
      "\n",
      "Topic #10:\n",
      "best feature secret dirty album live regret beyoncé bieber drake\n",
      "\n",
      "Topic #11:\n",
      "smack yeah tell like woohoo babe uhhuh bad gon button\n",
      "\n",
      "Topic #12:\n",
      "pump louder time ha ta yy need right turn try\n",
      "\n",
      "Topic #13:\n",
      "say booty girl know ass shake hit right want ai\n",
      "\n",
      "Topic #14:\n",
      "love feat let stripper ya rollin playin ama yea ay\n",
      "\n",
      "Topic #15:\n",
      "uh hump shabada que dame feel love make en te\n",
      "\n",
      "Topic #16:\n",
      "like check let watch walk ama ft work look ooh\n",
      "\n",
      "Topic #17:\n",
      "love head ai baby sexy girl make yeah man come\n",
      "\n",
      "Topic #18:\n",
      "know make baby na wan ayy oh chorus low say\n",
      "\n",
      "Topic #19:\n",
      "know wish want like cause make need away lookin baby\n"
     ]
    }
   ],
   "source": [
    "def print_topics(model, count_vectorizer, num_words):\n",
    "    words = count_vectorizer.get_feature_names()\n",
    "    for topic_num, topic_words in enumerate(model.components_):\n",
    "        print(\"\\nTopic #%d:\" % topic_num)\n",
    "        print(\" \".join([words[i]\n",
    "                        for i in topic_words.argsort()[:-num_words-1:-1]]))\n",
    "        \n",
    "#parameters\n",
    "number_topics = 20\n",
    "number_words = 10\n",
    "\n",
    "#LDA model\n",
    "lda = LDA(n_components=number_topics, n_jobs=-1,random_state=30)\n",
    "lda.fit(count_data)\n",
    "\n",
    "# Print topics\n",
    "print(\"Topics found:\")\n",
    "print_topics(lda, count_vectorizer, number_words)"
   ]
  },
  {
   "cell_type": "markdown",
   "metadata": {},
   "source": [
    "Topic 0 : lover <br>\n",
    "Topic 1 : tangibles <br>\n",
    "Topic 2 : feelings <br>\n",
    "Topic 3 : foreign <br>"
   ]
  },
  {
   "cell_type": "code",
   "execution_count": 298,
   "metadata": {},
   "outputs": [
    {
     "data": {
      "text/html": [
       "<div>\n",
       "<style scoped>\n",
       "    .dataframe tbody tr th:only-of-type {\n",
       "        vertical-align: middle;\n",
       "    }\n",
       "\n",
       "    .dataframe tbody tr th {\n",
       "        vertical-align: top;\n",
       "    }\n",
       "\n",
       "    .dataframe thead th {\n",
       "        text-align: right;\n",
       "    }\n",
       "</style>\n",
       "<table border=\"1\" class=\"dataframe\">\n",
       "  <thead>\n",
       "    <tr style=\"text-align: right;\">\n",
       "      <th></th>\n",
       "      <th>0</th>\n",
       "      <th>1</th>\n",
       "      <th>2</th>\n",
       "      <th>3</th>\n",
       "      <th>4</th>\n",
       "      <th>5</th>\n",
       "      <th>6</th>\n",
       "      <th>7</th>\n",
       "      <th>8</th>\n",
       "      <th>9</th>\n",
       "      <th>10</th>\n",
       "      <th>11</th>\n",
       "      <th>12</th>\n",
       "      <th>13</th>\n",
       "      <th>14</th>\n",
       "      <th>15</th>\n",
       "      <th>16</th>\n",
       "      <th>17</th>\n",
       "      <th>18</th>\n",
       "      <th>19</th>\n",
       "    </tr>\n",
       "  </thead>\n",
       "  <tbody>\n",
       "    <tr>\n",
       "      <th>0</th>\n",
       "      <td>0.000368</td>\n",
       "      <td>0.000368</td>\n",
       "      <td>0.885143</td>\n",
       "      <td>0.000368</td>\n",
       "      <td>0.050601</td>\n",
       "      <td>0.000368</td>\n",
       "      <td>0.000368</td>\n",
       "      <td>0.000368</td>\n",
       "      <td>0.000368</td>\n",
       "      <td>0.000368</td>\n",
       "      <td>0.000368</td>\n",
       "      <td>0.000368</td>\n",
       "      <td>0.000368</td>\n",
       "      <td>0.000368</td>\n",
       "      <td>0.000368</td>\n",
       "      <td>0.000368</td>\n",
       "      <td>0.000368</td>\n",
       "      <td>0.032318</td>\n",
       "      <td>0.026056</td>\n",
       "      <td>0.000368</td>\n",
       "    </tr>\n",
       "    <tr>\n",
       "      <th>1</th>\n",
       "      <td>0.000265</td>\n",
       "      <td>0.000265</td>\n",
       "      <td>0.079934</td>\n",
       "      <td>0.000265</td>\n",
       "      <td>0.690541</td>\n",
       "      <td>0.000265</td>\n",
       "      <td>0.000265</td>\n",
       "      <td>0.000265</td>\n",
       "      <td>0.020230</td>\n",
       "      <td>0.000265</td>\n",
       "      <td>0.000265</td>\n",
       "      <td>0.000265</td>\n",
       "      <td>0.000265</td>\n",
       "      <td>0.000265</td>\n",
       "      <td>0.000265</td>\n",
       "      <td>0.000265</td>\n",
       "      <td>0.000265</td>\n",
       "      <td>0.000265</td>\n",
       "      <td>0.161105</td>\n",
       "      <td>0.044221</td>\n",
       "    </tr>\n",
       "    <tr>\n",
       "      <th>2</th>\n",
       "      <td>0.000420</td>\n",
       "      <td>0.000420</td>\n",
       "      <td>0.309749</td>\n",
       "      <td>0.000420</td>\n",
       "      <td>0.457320</td>\n",
       "      <td>0.101633</td>\n",
       "      <td>0.000420</td>\n",
       "      <td>0.000420</td>\n",
       "      <td>0.000420</td>\n",
       "      <td>0.000420</td>\n",
       "      <td>0.000420</td>\n",
       "      <td>0.000420</td>\n",
       "      <td>0.000420</td>\n",
       "      <td>0.000420</td>\n",
       "      <td>0.000420</td>\n",
       "      <td>0.000420</td>\n",
       "      <td>0.000420</td>\n",
       "      <td>0.124575</td>\n",
       "      <td>0.000420</td>\n",
       "      <td>0.000420</td>\n",
       "    </tr>\n",
       "    <tr>\n",
       "      <th>3</th>\n",
       "      <td>0.317682</td>\n",
       "      <td>0.000263</td>\n",
       "      <td>0.328523</td>\n",
       "      <td>0.000263</td>\n",
       "      <td>0.000263</td>\n",
       "      <td>0.000263</td>\n",
       "      <td>0.000263</td>\n",
       "      <td>0.033047</td>\n",
       "      <td>0.187752</td>\n",
       "      <td>0.000263</td>\n",
       "      <td>0.000263</td>\n",
       "      <td>0.059625</td>\n",
       "      <td>0.000263</td>\n",
       "      <td>0.000263</td>\n",
       "      <td>0.000263</td>\n",
       "      <td>0.000263</td>\n",
       "      <td>0.000263</td>\n",
       "      <td>0.069686</td>\n",
       "      <td>0.000263</td>\n",
       "      <td>0.000263</td>\n",
       "    </tr>\n",
       "    <tr>\n",
       "      <th>4</th>\n",
       "      <td>0.000282</td>\n",
       "      <td>0.000282</td>\n",
       "      <td>0.375327</td>\n",
       "      <td>0.000282</td>\n",
       "      <td>0.000282</td>\n",
       "      <td>0.000282</td>\n",
       "      <td>0.224384</td>\n",
       "      <td>0.000282</td>\n",
       "      <td>0.000282</td>\n",
       "      <td>0.000282</td>\n",
       "      <td>0.000282</td>\n",
       "      <td>0.000282</td>\n",
       "      <td>0.000282</td>\n",
       "      <td>0.000282</td>\n",
       "      <td>0.000282</td>\n",
       "      <td>0.000282</td>\n",
       "      <td>0.000282</td>\n",
       "      <td>0.000282</td>\n",
       "      <td>0.395486</td>\n",
       "      <td>0.000282</td>\n",
       "    </tr>\n",
       "  </tbody>\n",
       "</table>\n",
       "</div>"
      ],
      "text/plain": [
       "         0         1         2         3         4         5         6   \\\n",
       "0  0.000368  0.000368  0.885143  0.000368  0.050601  0.000368  0.000368   \n",
       "1  0.000265  0.000265  0.079934  0.000265  0.690541  0.000265  0.000265   \n",
       "2  0.000420  0.000420  0.309749  0.000420  0.457320  0.101633  0.000420   \n",
       "3  0.317682  0.000263  0.328523  0.000263  0.000263  0.000263  0.000263   \n",
       "4  0.000282  0.000282  0.375327  0.000282  0.000282  0.000282  0.224384   \n",
       "\n",
       "         7         8         9         10        11        12        13  \\\n",
       "0  0.000368  0.000368  0.000368  0.000368  0.000368  0.000368  0.000368   \n",
       "1  0.000265  0.020230  0.000265  0.000265  0.000265  0.000265  0.000265   \n",
       "2  0.000420  0.000420  0.000420  0.000420  0.000420  0.000420  0.000420   \n",
       "3  0.033047  0.187752  0.000263  0.000263  0.059625  0.000263  0.000263   \n",
       "4  0.000282  0.000282  0.000282  0.000282  0.000282  0.000282  0.000282   \n",
       "\n",
       "         14        15        16        17        18        19  \n",
       "0  0.000368  0.000368  0.000368  0.032318  0.026056  0.000368  \n",
       "1  0.000265  0.000265  0.000265  0.000265  0.161105  0.044221  \n",
       "2  0.000420  0.000420  0.000420  0.124575  0.000420  0.000420  \n",
       "3  0.000263  0.000263  0.000263  0.069686  0.000263  0.000263  \n",
       "4  0.000282  0.000282  0.000282  0.000282  0.395486  0.000282  "
      ]
     },
     "execution_count": 298,
     "metadata": {},
     "output_type": "execute_result"
    }
   ],
   "source": [
    "#getting topic weights\n",
    "weights=lda.transform(count_data)\n",
    "topic_weights=pd.DataFrame(weights)\n",
    "#topic_weights=topic_weights.rename(columns={0: \"Lover\", 1: \"Tangible\",2:\"Feeling\",3:\"Foreign\"})\n",
    "topic_weights.head()\n",
    "#Every row is a billboard hot100 song "
   ]
  },
  {
   "cell_type": "code",
   "execution_count": 299,
   "metadata": {
    "scrolled": true
   },
   "outputs": [
    {
     "data": {
      "text/plain": [
       "(2969, 20)"
      ]
     },
     "execution_count": 299,
     "metadata": {},
     "output_type": "execute_result"
    }
   ],
   "source": [
    "topic_weights.shape"
   ]
  },
  {
   "cell_type": "code",
   "execution_count": 223,
   "metadata": {},
   "outputs": [],
   "source": [
    "# import numpy as np\n",
    "# topic_weights.compound = topic_weights.compound.astype(float)"
   ]
  },
  {
   "cell_type": "code",
   "execution_count": 211,
   "metadata": {},
   "outputs": [
    {
     "data": {
      "text/plain": [
       "Index(['Lover', 'Tangible', 'Feeling', 'Foreign', 'compound'], dtype='object')"
      ]
     },
     "execution_count": 211,
     "metadata": {},
     "output_type": "execute_result"
    }
   ],
   "source": [
    "topic_weights.fillna(topic_weights.compound)"
   ]
  },
  {
   "cell_type": "code",
   "execution_count": 234,
   "metadata": {},
   "outputs": [
    {
     "name": "stdout",
     "output_type": "stream",
     "text": [
      "Accuracy Score: 0.6087689713322091\n",
      "ROC_AUC Score: 0.6674014258693438\n",
      "F1 Score: 0.4579439252336449\n",
      "Confusion Matrix:\n",
      "Confusion matrix, without normalization\n"
     ]
    },
    {
     "data": {
      "text/plain": [
       "<matplotlib.axes._subplots.AxesSubplot at 0x22dfa1b1fd0>"
      ]
     },
     "execution_count": 234,
     "metadata": {},
     "output_type": "execute_result"
    },
    {
     "data": {
      "image/png": "[encoded data removed]",
      "text/plain": [
       "<Figure size 432x288 with 2 Axes>"
      ]
     },
     "metadata": {
      "needs_background": "light"
     },
     "output_type": "display_data"
    }
   ],
   "source": [
    "X3= topic_weights\n",
    "y1 = df_new['engagement_high']\n",
    "X3_train, X3_test, y1_train, y1_test = train_test_split(X3, y1, test_size=0.2, random_state=0)\n",
    "\n",
    "model = LogisticRegression(class_weight = 'balanced')\n",
    "model.fit(X3_train,y1_train)\n",
    "y_pred_topic = model.predict(X3_test)\n",
    "y_pred_score_topic = model.predict_proba(X3_test)[:,1]\n",
    "\n",
    "print('Accuracy Score:',accuracy_score(y1_test,y_pred_topic))\n",
    "print('ROC_AUC Score:',roc_auc_score(y1_test,y_pred_score_topic))\n",
    "print('F1 Score:',f1_score(y1_test,y_pred_topic))\n",
    "print('Confusion Matrix:')\n",
    "plot_confusion_matrix(y_true = y1_test, \n",
    "                      y_pred = y_pred_topic, classes = np.unique(y1_test),\n",
    "                     title = 'Confusion matrix')\n",
    "\n"
   ]
  },
  {
   "cell_type": "code",
   "execution_count": null,
   "metadata": {},
   "outputs": [],
   "source": []
  },
  {
   "cell_type": "markdown",
   "metadata": {},
   "source": [
    "### Regress with both sentiment scores and topic weights"
   ]
  },
  {
   "cell_type": "code",
   "execution_count": 346,
   "metadata": {},
   "outputs": [
    {
     "name": "stdout",
     "output_type": "stream",
     "text": [
      "Accuracy Score: 0.7403035413153457\n",
      "ROC_AUC Score: 0.5388549396187982\n",
      "F1 Score: 0.4622641509433962\n",
      "Confusion Matrix:\n",
      "Confusion matrix, without normalization\n"
     ]
    },
    {
     "data": {
      "text/plain": [
       "<matplotlib.axes._subplots.AxesSubplot at 0x22de85cd3c8>"
      ]
     },
     "execution_count": 346,
     "metadata": {},
     "output_type": "execute_result"
    },
    {
     "data": {
      "image/png": "[encoded data removed]",
      "text/plain": [
       "<Figure size 432x288 with 2 Axes>"
      ]
     },
     "metadata": {
      "needs_background": "light"
     },
     "output_type": "display_data"
    }
   ],
   "source": [
    "X3['compound'] = X1['compound']\n",
    "X4 = X3\n",
    "X3 = X3.drop('compound',axis=1)\n",
    "X4.shape\n",
    "np.where(np.isnan(X4)) \n",
    "X4.fillna(X4.mean(), inplace=True)\n",
    "#np.nan_to_num(X4)\n",
    "y1 = df_new['engagement_high']\n",
    "X4_train, X4_test, y1_train, y1_test = train_test_split(X4, y1, test_size=0.2, random_state=0)\n",
    "\n",
    "model = LogisticRegression(class_weight='balanced')\n",
    "model.fit(X4_train,y1_train)\n",
    "y_pred_topic_sent = model.predict(X4_test)\n",
    "y_pred_score_topic_sent = model.predict_proba(X4_test)[:,1]\n",
    "\n",
    "#\n",
    "\n",
    "y_pred_score_topic_sent[y_pred_score_topic_sent >= 0.75] = 1\n",
    "y_pred_score_topic_sent[y_pred_score_topic_sent < 0.75] = 0\n",
    "\n",
    "\n",
    "print('Accuracy Score:',accuracy_score(y1_test,y_pred_score_topic_sent))\n",
    "print('ROC_AUC Score:',roc_auc_score(y1_test,y_pred_score_topic_sent))\n",
    "print('F1 Score:',f1_score(y1_test,y_pred_topic_sent))\n",
    "print('Confusion Matrix:')\n",
    "plot_confusion_matrix(y_true = y1_test, \n",
    "                      y_pred = y_pred_topic_sent, classes = np.unique(y1_test),\n",
    "                     title = 'Confusion matrix')"
   ]
  },
  {
   "cell_type": "code",
   "execution_count": 331,
   "metadata": {},
   "outputs": [
    {
     "data": {
      "text/plain": [
       "array(['engagement_high', 'neg', 'neu', 'pos'], dtype=object)"
      ]
     },
     "execution_count": 331,
     "metadata": {},
     "output_type": "execute_result"
    }
   ],
   "source": [
    "df_c.head(5) # dataframe with sentiment scores \n",
    "df_c.shape\n",
    "df_c.columns.values\n",
    "# df_c.drop(columns=['artist', 'lyrics','name','rank','song','url','urltag','year','lyrics_clean',\n",
    "#                   'lyrics_lem','song_id','compound'],inplace = True)\n",
    "df_c.columns.values\n",
    "scorels.shape\n",
    "df_c.columns.values"
   ]
  },
  {
   "cell_type": "markdown",
   "metadata": {},
   "source": [
    "## Regress using unigram and sentiment scores and topic weights "
   ]
  },
  {
   "cell_type": "code",
   "execution_count": 333,
   "metadata": {},
   "outputs": [
    {
     "data": {
      "text/plain": [
       "array(['compound', 'neg', 'neu', 'pos'], dtype=object)"
      ]
     },
     "execution_count": 333,
     "metadata": {},
     "output_type": "execute_result"
    }
   ],
   "source": [
    "# df_c1 = pd.concat([df_c.reset_index(drop=True),scorels], axis=1)\n",
    "# df_c1.shape\n",
    "# df_c1.columns.values\n",
    "# scorels.columns.values"
   ]
  },
  {
   "cell_type": "code",
   "execution_count": 334,
   "metadata": {},
   "outputs": [
    {
     "data": {
      "text/plain": [
       "(2969, 24)"
      ]
     },
     "execution_count": 334,
     "metadata": {},
     "output_type": "execute_result"
    }
   ],
   "source": [
    "df_c_1 = pd.concat([scorels.reset_index(drop=True),topic_weights], axis=1)\n",
    "df_c_1.head(3)\n",
    "df_c_1.shape"
   ]
  },
  {
   "cell_type": "code",
   "execution_count": 335,
   "metadata": {},
   "outputs": [
    {
     "data": {
      "text/plain": [
       "(2969, 500)"
      ]
     },
     "execution_count": 335,
     "metadata": {},
     "output_type": "execute_result"
    }
   ],
   "source": [
    "corpus_full = df['lyrics_lem'].tolist() \n",
    "vectorizer = TfidfVectorizer(max_features=500)\n",
    "X_lyrics = vectorizer.fit_transform(corpus_full)\n",
    "\n",
    "\n",
    "data = X_lyrics.toarray()\n",
    "dfx =pd.DataFrame(data=data[0:,0:],\n",
    "            index=[i for i in range(data.shape[0])],\n",
    "            columns=[vectorizer.get_feature_names()])\n",
    "\n",
    "dfx.shape"
   ]
  },
  {
   "cell_type": "code",
   "execution_count": 336,
   "metadata": {},
   "outputs": [
    {
     "data": {
      "text/plain": [
       "(2969, 524)"
      ]
     },
     "execution_count": 336,
     "metadata": {},
     "output_type": "execute_result"
    }
   ],
   "source": [
    "df_c_2 = pd.concat([df_c_1.reset_index(drop=True),dfx], axis=1)\n",
    "df_c_2.shape"
   ]
  },
  {
   "cell_type": "code",
   "execution_count": 342,
   "metadata": {},
   "outputs": [],
   "source": [
    "y = df['engagement_high']\n",
    "# X_train, X_test, y_train, y_test = train_test_split(X, y, test_size=0.2, random_state=0)\n",
    "df_final = df_c_2.drop('compound',axis=1)\n",
    "df_final.shape\n",
    "X=df_final"
   ]
  },
  {
   "cell_type": "code",
   "execution_count": 347,
   "metadata": {},
   "outputs": [
    {
     "name": "stdout",
     "output_type": "stream",
     "text": [
      "Accuracy Score: 0.8215488215488216\n",
      "ROC_AUC Score: 0.8979486422668241\n",
      "F1 Score: 0.6845238095238095\n",
      "Confusion Matrix:\n",
      "Confusion matrix, without normalization\n"
     ]
    },
    {
     "data": {
      "text/plain": [
       "<matplotlib.axes._subplots.AxesSubplot at 0x22d82de9400>"
      ]
     },
     "execution_count": 347,
     "metadata": {},
     "output_type": "execute_result"
    },
    {
     "data": {
      "image/png": "[encoded data removed]",
      "text/plain": [
       "<Figure size 432x288 with 2 Axes>"
      ]
     },
     "metadata": {
      "needs_background": "light"
     },
     "output_type": "display_data"
    }
   ],
   "source": [
    "X_train, X_test, y_train, y_test = train_test_split(X, y, test_size=0.2, random_state=0)\n",
    "model = LogisticRegression(class_weight='balanced')\n",
    "model.fit(X_train,y_train)\n",
    "y_pred = model.predict(X_test)\n",
    "y_pred_score = model.predict_proba(X_test)[:,1]\n",
    "\n",
    "print('Accuracy Score:',accuracy_score(y_test,y_pred))\n",
    "print('ROC_AUC Score:',roc_auc_score(y_test,y_pred_score))\n",
    "print('F1 Score:',f1_score(y_test,y_pred))\n",
    "print('Confusion Matrix:')\n",
    "\n",
    "\n",
    "plot_confusion_matrix(y_true = y_test, \n",
    "                      y_pred = y_pred, classes = np.unique(y_test),\n",
    "                     title = 'Confusion matrix')"
   ]
  },
  {
   "cell_type": "code",
   "execution_count": null,
   "metadata": {},
   "outputs": [],
   "source": []
  },
  {
   "cell_type": "code",
   "execution_count": 368,
   "metadata": {},
   "outputs": [
    {
     "data": {
      "text/html": [
       "<div>\n",
       "<style scoped>\n",
       "    .dataframe tbody tr th:only-of-type {\n",
       "        vertical-align: middle;\n",
       "    }\n",
       "\n",
       "    .dataframe tbody tr th {\n",
       "        vertical-align: top;\n",
       "    }\n",
       "\n",
       "    .dataframe thead th {\n",
       "        text-align: right;\n",
       "    }\n",
       "</style>\n",
       "<table border=\"1\" class=\"dataframe\">\n",
       "  <thead>\n",
       "    <tr style=\"text-align: right;\">\n",
       "      <th></th>\n",
       "      <th>Coefficient</th>\n",
       "      <th>abs_coef</th>\n",
       "    </tr>\n",
       "    <tr>\n",
       "      <th>Feature</th>\n",
       "      <th></th>\n",
       "      <th></th>\n",
       "    </tr>\n",
       "  </thead>\n",
       "  <tbody>\n",
       "    <tr>\n",
       "      <th>(timbaland,)</th>\n",
       "      <td>2.937700</td>\n",
       "      <td>2.937700</td>\n",
       "    </tr>\n",
       "    <tr>\n",
       "      <th>(rest,)</th>\n",
       "      <td>2.236597</td>\n",
       "      <td>2.236597</td>\n",
       "    </tr>\n",
       "    <tr>\n",
       "      <th>(breakout,)</th>\n",
       "      <td>2.162836</td>\n",
       "      <td>2.162836</td>\n",
       "    </tr>\n",
       "    <tr>\n",
       "      <th>(face,)</th>\n",
       "      <td>2.041192</td>\n",
       "      <td>2.041192</td>\n",
       "    </tr>\n",
       "    <tr>\n",
       "      <th>(ai,)</th>\n",
       "      <td>-2.010332</td>\n",
       "      <td>2.010332</td>\n",
       "    </tr>\n",
       "    <tr>\n",
       "      <th>(head,)</th>\n",
       "      <td>2.002399</td>\n",
       "      <td>2.002399</td>\n",
       "    </tr>\n",
       "    <tr>\n",
       "      <th>15</th>\n",
       "      <td>-1.981442</td>\n",
       "      <td>1.981442</td>\n",
       "    </tr>\n",
       "    <tr>\n",
       "      <th>(london,)</th>\n",
       "      <td>1.975081</td>\n",
       "      <td>1.975081</td>\n",
       "    </tr>\n",
       "    <tr>\n",
       "      <th>(forget,)</th>\n",
       "      <td>-1.839869</td>\n",
       "      <td>1.839869</td>\n",
       "    </tr>\n",
       "    <tr>\n",
       "      <th>(little,)</th>\n",
       "      <td>-1.831786</td>\n",
       "      <td>1.831786</td>\n",
       "    </tr>\n",
       "    <tr>\n",
       "      <th>(ohoh,)</th>\n",
       "      <td>1.824590</td>\n",
       "      <td>1.824590</td>\n",
       "    </tr>\n",
       "    <tr>\n",
       "      <th>(mir,)</th>\n",
       "      <td>1.821866</td>\n",
       "      <td>1.821866</td>\n",
       "    </tr>\n",
       "    <tr>\n",
       "      <th>(look,)</th>\n",
       "      <td>1.782073</td>\n",
       "      <td>1.782073</td>\n",
       "    </tr>\n",
       "    <tr>\n",
       "      <th>(gyal,)</th>\n",
       "      <td>1.779519</td>\n",
       "      <td>1.779519</td>\n",
       "    </tr>\n",
       "    <tr>\n",
       "      <th>(day,)</th>\n",
       "      <td>1.779400</td>\n",
       "      <td>1.779400</td>\n",
       "    </tr>\n",
       "    <tr>\n",
       "      <th>(mean,)</th>\n",
       "      <td>1.755193</td>\n",
       "      <td>1.755193</td>\n",
       "    </tr>\n",
       "    <tr>\n",
       "      <th>(grill,)</th>\n",
       "      <td>1.741832</td>\n",
       "      <td>1.741832</td>\n",
       "    </tr>\n",
       "    <tr>\n",
       "      <th>(loosen,)</th>\n",
       "      <td>1.732320</td>\n",
       "      <td>1.732320</td>\n",
       "    </tr>\n",
       "    <tr>\n",
       "      <th>(rompe,)</th>\n",
       "      <td>-1.705488</td>\n",
       "      <td>1.705488</td>\n",
       "    </tr>\n",
       "    <tr>\n",
       "      <th>(shakira,)</th>\n",
       "      <td>1.673955</td>\n",
       "      <td>1.673955</td>\n",
       "    </tr>\n",
       "    <tr>\n",
       "      <th>(ya,)</th>\n",
       "      <td>1.666714</td>\n",
       "      <td>1.666714</td>\n",
       "    </tr>\n",
       "    <tr>\n",
       "      <th>(floor,)</th>\n",
       "      <td>1.665919</td>\n",
       "      <td>1.665919</td>\n",
       "    </tr>\n",
       "    <tr>\n",
       "      <th>(see,)</th>\n",
       "      <td>1.664169</td>\n",
       "      <td>1.664169</td>\n",
       "    </tr>\n",
       "    <tr>\n",
       "      <th>(crazy,)</th>\n",
       "      <td>1.655813</td>\n",
       "      <td>1.655813</td>\n",
       "    </tr>\n",
       "    <tr>\n",
       "      <th>(true,)</th>\n",
       "      <td>1.625772</td>\n",
       "      <td>1.625772</td>\n",
       "    </tr>\n",
       "    <tr>\n",
       "      <th>(sound,)</th>\n",
       "      <td>-1.595794</td>\n",
       "      <td>1.595794</td>\n",
       "    </tr>\n",
       "    <tr>\n",
       "      <th>(cry,)</th>\n",
       "      <td>-1.593861</td>\n",
       "      <td>1.593861</td>\n",
       "    </tr>\n",
       "    <tr>\n",
       "      <th>(man,)</th>\n",
       "      <td>-1.569942</td>\n",
       "      <td>1.569942</td>\n",
       "    </tr>\n",
       "    <tr>\n",
       "      <th>(make,)</th>\n",
       "      <td>-1.565965</td>\n",
       "      <td>1.565965</td>\n",
       "    </tr>\n",
       "    <tr>\n",
       "      <th>(shoulder,)</th>\n",
       "      <td>-1.546094</td>\n",
       "      <td>1.546094</td>\n",
       "    </tr>\n",
       "    <tr>\n",
       "      <th>...</th>\n",
       "      <td>...</td>\n",
       "      <td>...</td>\n",
       "    </tr>\n",
       "    <tr>\n",
       "      <th>(might,)</th>\n",
       "      <td>0.049092</td>\n",
       "      <td>0.049092</td>\n",
       "    </tr>\n",
       "    <tr>\n",
       "      <th>(el,)</th>\n",
       "      <td>-0.046196</td>\n",
       "      <td>0.046196</td>\n",
       "    </tr>\n",
       "    <tr>\n",
       "      <th>(diamonds,)</th>\n",
       "      <td>-0.041526</td>\n",
       "      <td>0.041526</td>\n",
       "    </tr>\n",
       "    <tr>\n",
       "      <th>(haha,)</th>\n",
       "      <td>0.039418</td>\n",
       "      <td>0.039418</td>\n",
       "    </tr>\n",
       "    <tr>\n",
       "      <th>(take,)</th>\n",
       "      <td>0.039376</td>\n",
       "      <td>0.039376</td>\n",
       "    </tr>\n",
       "    <tr>\n",
       "      <th>(star,)</th>\n",
       "      <td>-0.039067</td>\n",
       "      <td>0.039067</td>\n",
       "    </tr>\n",
       "    <tr>\n",
       "      <th>(hop,)</th>\n",
       "      <td>-0.037535</td>\n",
       "      <td>0.037535</td>\n",
       "    </tr>\n",
       "    <tr>\n",
       "      <th>(door,)</th>\n",
       "      <td>0.037313</td>\n",
       "      <td>0.037313</td>\n",
       "    </tr>\n",
       "    <tr>\n",
       "      <th>(live,)</th>\n",
       "      <td>-0.036951</td>\n",
       "      <td>0.036951</td>\n",
       "    </tr>\n",
       "    <tr>\n",
       "      <th>(top,)</th>\n",
       "      <td>-0.035826</td>\n",
       "      <td>0.035826</td>\n",
       "    </tr>\n",
       "    <tr>\n",
       "      <th>(white,)</th>\n",
       "      <td>-0.035734</td>\n",
       "      <td>0.035734</td>\n",
       "    </tr>\n",
       "    <tr>\n",
       "      <th>(kiss,)</th>\n",
       "      <td>-0.035121</td>\n",
       "      <td>0.035121</td>\n",
       "    </tr>\n",
       "    <tr>\n",
       "      <th>(chance,)</th>\n",
       "      <td>-0.032945</td>\n",
       "      <td>0.032945</td>\n",
       "    </tr>\n",
       "    <tr>\n",
       "      <th>(lock,)</th>\n",
       "      <td>0.028787</td>\n",
       "      <td>0.028787</td>\n",
       "    </tr>\n",
       "    <tr>\n",
       "      <th>(mine,)</th>\n",
       "      <td>-0.028682</td>\n",
       "      <td>0.028682</td>\n",
       "    </tr>\n",
       "    <tr>\n",
       "      <th>(miss,)</th>\n",
       "      <td>0.027264</td>\n",
       "      <td>0.027264</td>\n",
       "    </tr>\n",
       "    <tr>\n",
       "      <th>(air,)</th>\n",
       "      <td>-0.027141</td>\n",
       "      <td>0.027141</td>\n",
       "    </tr>\n",
       "    <tr>\n",
       "      <th>(brown,)</th>\n",
       "      <td>-0.025970</td>\n",
       "      <td>0.025970</td>\n",
       "    </tr>\n",
       "    <tr>\n",
       "      <th>(question,)</th>\n",
       "      <td>0.023214</td>\n",
       "      <td>0.023214</td>\n",
       "    </tr>\n",
       "    <tr>\n",
       "      <th>8</th>\n",
       "      <td>-0.021892</td>\n",
       "      <td>0.021892</td>\n",
       "    </tr>\n",
       "    <tr>\n",
       "      <th>(far,)</th>\n",
       "      <td>0.020235</td>\n",
       "      <td>0.020235</td>\n",
       "    </tr>\n",
       "    <tr>\n",
       "      <th>pos</th>\n",
       "      <td>-0.019753</td>\n",
       "      <td>0.019753</td>\n",
       "    </tr>\n",
       "    <tr>\n",
       "      <th>(somebody,)</th>\n",
       "      <td>0.013797</td>\n",
       "      <td>0.013797</td>\n",
       "    </tr>\n",
       "    <tr>\n",
       "      <th>(tight,)</th>\n",
       "      <td>-0.011024</td>\n",
       "      <td>0.011024</td>\n",
       "    </tr>\n",
       "    <tr>\n",
       "      <th>(anything,)</th>\n",
       "      <td>0.008700</td>\n",
       "      <td>0.008700</td>\n",
       "    </tr>\n",
       "    <tr>\n",
       "      <th>(real,)</th>\n",
       "      <td>0.007910</td>\n",
       "      <td>0.007910</td>\n",
       "    </tr>\n",
       "    <tr>\n",
       "      <th>(change,)</th>\n",
       "      <td>0.003421</td>\n",
       "      <td>0.003421</td>\n",
       "    </tr>\n",
       "    <tr>\n",
       "      <th>2</th>\n",
       "      <td>-0.002317</td>\n",
       "      <td>0.002317</td>\n",
       "    </tr>\n",
       "    <tr>\n",
       "      <th>(te,)</th>\n",
       "      <td>0.000930</td>\n",
       "      <td>0.000930</td>\n",
       "    </tr>\n",
       "    <tr>\n",
       "      <th>(en,)</th>\n",
       "      <td>0.000641</td>\n",
       "      <td>0.000641</td>\n",
       "    </tr>\n",
       "  </tbody>\n",
       "</table>\n",
       "<p>523 rows × 2 columns</p>\n",
       "</div>"
      ],
      "text/plain": [
       "              Coefficient  abs_coef\n",
       "Feature                            \n",
       "(timbaland,)     2.937700  2.937700\n",
       "(rest,)          2.236597  2.236597\n",
       "(breakout,)      2.162836  2.162836\n",
       "(face,)          2.041192  2.041192\n",
       "(ai,)           -2.010332  2.010332\n",
       "(head,)          2.002399  2.002399\n",
       "15              -1.981442  1.981442\n",
       "(london,)        1.975081  1.975081\n",
       "(forget,)       -1.839869  1.839869\n",
       "(little,)       -1.831786  1.831786\n",
       "(ohoh,)          1.824590  1.824590\n",
       "(mir,)           1.821866  1.821866\n",
       "(look,)          1.782073  1.782073\n",
       "(gyal,)          1.779519  1.779519\n",
       "(day,)           1.779400  1.779400\n",
       "(mean,)          1.755193  1.755193\n",
       "(grill,)         1.741832  1.741832\n",
       "(loosen,)        1.732320  1.732320\n",
       "(rompe,)        -1.705488  1.705488\n",
       "(shakira,)       1.673955  1.673955\n",
       "(ya,)            1.666714  1.666714\n",
       "(floor,)         1.665919  1.665919\n",
       "(see,)           1.664169  1.664169\n",
       "(crazy,)         1.655813  1.655813\n",
       "(true,)          1.625772  1.625772\n",
       "(sound,)        -1.595794  1.595794\n",
       "(cry,)          -1.593861  1.593861\n",
       "(man,)          -1.569942  1.569942\n",
       "(make,)         -1.565965  1.565965\n",
       "(shoulder,)     -1.546094  1.546094\n",
       "...                   ...       ...\n",
       "(might,)         0.049092  0.049092\n",
       "(el,)           -0.046196  0.046196\n",
       "(diamonds,)     -0.041526  0.041526\n",
       "(haha,)          0.039418  0.039418\n",
       "(take,)          0.039376  0.039376\n",
       "(star,)         -0.039067  0.039067\n",
       "(hop,)          -0.037535  0.037535\n",
       "(door,)          0.037313  0.037313\n",
       "(live,)         -0.036951  0.036951\n",
       "(top,)          -0.035826  0.035826\n",
       "(white,)        -0.035734  0.035734\n",
       "(kiss,)         -0.035121  0.035121\n",
       "(chance,)       -0.032945  0.032945\n",
       "(lock,)          0.028787  0.028787\n",
       "(mine,)         -0.028682  0.028682\n",
       "(miss,)          0.027264  0.027264\n",
       "(air,)          -0.027141  0.027141\n",
       "(brown,)        -0.025970  0.025970\n",
       "(question,)      0.023214  0.023214\n",
       "8               -0.021892  0.021892\n",
       "(far,)           0.020235  0.020235\n",
       "pos             -0.019753  0.019753\n",
       "(somebody,)      0.013797  0.013797\n",
       "(tight,)        -0.011024  0.011024\n",
       "(anything,)      0.008700  0.008700\n",
       "(real,)          0.007910  0.007910\n",
       "(change,)        0.003421  0.003421\n",
       "2               -0.002317  0.002317\n",
       "(te,)            0.000930  0.000930\n",
       "(en,)            0.000641  0.000641\n",
       "\n",
       "[523 rows x 2 columns]"
      ]
     },
     "execution_count": 368,
     "metadata": {},
     "output_type": "execute_result"
    }
   ],
   "source": [
    "# model_coef = model.coef_[0].tolist()\n",
    "len(model_coef)\n",
    "lr_select_full_coef = pd.Series(model_coef) \n",
    "# top_features = pd.Series(top20_features)\n",
    "# lr_sel_features_coef = pd.concat([top_features, lr_select_full_coef], axis=1)\n",
    "# lr_sel_features_coef.rename(columns={0: \"Feature\", 1: \"Coefficient\"}, inplace = True)\n",
    "# lr_sel_features_coef.set_index(\"Feature\", inplace = True)\n",
    "model.coef_[0]\n",
    "lr_select_full_coef\n",
    "var = X_train.columns.values.tolist()\n",
    "features = pd.Series(var)\n",
    "all_features = pd.DataFrame(features)\n",
    "lr_sel_features_coef = pd.concat([features, lr_select_full_coef], axis=1)\n",
    "lr_sel_features_coef.rename(columns={0: \"Feature\", 1: \"Coefficient\"}, inplace = True)\n",
    "lr_sel_features_coef.set_index(\"Feature\", inplace = True)\n",
    "lr_sel_features_coef.sort_values(by='Coefficient')\n",
    "lr_sel_features_coef['abs_coef'] = np.where(lr_sel_features_coef['Coefficient'] < 0, lr_sel_features_coef['Coefficient']*-1,\n",
    "                                           lr_sel_features_coef['Coefficient'])\n",
    "lr_sel_features_coef.sort_values(by='abs_coef', ascending = False)"
   ]
  },
  {
   "cell_type": "code",
   "execution_count": 377,
   "metadata": {},
   "outputs": [
    {
     "data": {
      "text/plain": [
       "<matplotlib.axes._subplots.AxesSubplot at 0x22d82182668>"
      ]
     },
     "execution_count": 377,
     "metadata": {},
     "output_type": "execute_result"
    },
    {
     "data": {
      "image/png": "[encoded data removed]",
      "text/plain": [
       "<Figure size 432x288 with 1 Axes>"
      ]
     },
     "metadata": {
      "needs_background": "light"
     },
     "output_type": "display_data"
    }
   ],
   "source": [
    "lr_sel_features_coef.sort_values(by='abs_coef', ascending = False)[:15]['Coefficient'].plot(kind = 'barh')"
   ]
  },
  {
   "cell_type": "code",
   "execution_count": null,
   "metadata": {},
   "outputs": [],
   "source": []
  }
 ],
 "metadata": {
  "colab": {
   "name": "engagement_score_prediction.ipynb",
   "provenance": []
  },
  "kernelspec": {
   "display_name": "Python 3",
   "language": "python",
   "name": "python3"
  },
  "language_info": {
   "codemirror_mode": {
    "name": "ipython",
    "version": 3
   },
   "file_extension": ".py",
   "mimetype": "text/x-python",
   "name": "python",
   "nbconvert_exporter": "python",
   "pygments_lexer": "ipython3",
   "version": "3.7.3"
  }
 },
 "nbformat": 4,
 "nbformat_minor": 1
}
